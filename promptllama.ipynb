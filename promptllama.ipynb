{
 "cells": [
  {
   "cell_type": "code",
   "execution_count": 92,
   "id": "69b6a4eb-dd49-438c-982f-88cc287b5a4f",
   "metadata": {
    "tags": []
   },
   "outputs": [],
   "source": [
    "import os\n",
    "#import gradio as gr\n",
    "#import fire\n",
    "from enum import Enum\n",
    "from threading import Thread\n",
    "from transformers import AutoModelForCausalLM, AutoTokenizer\n",
    "from auto_gptq import AutoGPTQForCausalLM\n",
    "from llama_cpp import Llama\n",
    "from huggingface_hub import hf_hub_download\n",
    "from transformers import TextIteratorStreamer\n",
    "#from llama_chat_format import format_to_llama_chat_style\n",
    "from ctransformers import AutoModelForCausalLM\n",
    "import json\n",
    "import pandas as pd\n",
    "import os\n",
    "import re\n",
    "from transformers import pipeline, AutoModelForCausalLM, AutoTokenizer\n",
    "import numpy as np\n"
   ]
  },
  {
   "cell_type": "code",
   "execution_count": 93,
   "id": "ef00ad84-dd71-44bf-808e-47508a1c1c4f",
   "metadata": {
    "tags": []
   },
   "outputs": [
    {
     "data": {
      "application/vnd.jupyter.widget-view+json": {
       "model_id": "6b3a7e215db94592a24351777218cc20",
       "version_major": 2,
       "version_minor": 0
      },
      "text/plain": [
       "Fetching 1 files:   0%|          | 0/1 [00:00<?, ?it/s]"
      ]
     },
     "metadata": {},
     "output_type": "display_data"
    },
    {
     "data": {
      "application/vnd.jupyter.widget-view+json": {
       "model_id": "f9b31e794ec24ba68031594eb9a97d2f",
       "version_major": 2,
       "version_minor": 0
      },
      "text/plain": [
       "Fetching 1 files:   0%|          | 0/1 [00:00<?, ?it/s]"
      ]
     },
     "metadata": {},
     "output_type": "display_data"
    },
    {
     "name": "stderr",
     "output_type": "stream",
     "text": [
      "ggml_cuda_set_main_device: using device 0 (NVIDIA A100 80GB PCIe) as main device\n"
     ]
    }
   ],
   "source": [
    "# For demonstraion purpose we use smaller version of LLama\n",
    "# but it can be easily changed with any version depending on the available resources\n",
    "llm = AutoModelForCausalLM.from_pretrained(\"TheBloke/sheep-duck-llama-2-13B-GGUF\", model_file=\"sheep-duck-llama-2-13b.Q4_K_M.gguf\", model_type=\"llama\", gpu_layers=50)"
   ]
  },
  {
   "cell_type": "code",
   "execution_count": 22,
   "id": "e6f92381-e7b8-44a0-a22c-5c26dd9f24f3",
   "metadata": {
    "tags": []
   },
   "outputs": [],
   "source": [
    "def fewRel(path):\n",
    "    data_list = []  # Create a list to collect dictionaries for each row\n",
    "    sentences = []\n",
    "    relations = []\n",
    "    entities = []\n",
    "    data = {}\n",
    "    for filename in os.listdir(path):\n",
    "        if not filename.endswith('.json'):\n",
    "            continue\n",
    "        fullname = os.path.join(path, filename)\n",
    "        \n",
    "        with open(fullname) as f:\n",
    "            fewRel_corpus = json.load(f)\n",
    "            \n",
    "            for relation, value in fewRel_corpus.items():\n",
    "                for row in value:\n",
    "                    sentences.append(row['tokens'])\n",
    "                    relations.append(relation)\n",
    "                    entities.append((row['h'][0].strip(),row['t'][0].strip()))\n",
    "        data['sentence'] = sentences\n",
    "        data['relation'] = relations\n",
    "        data['entities'] = entities\n",
    "    \n",
    "    return data"
   ]
  },
  {
   "cell_type": "code",
   "execution_count": 23,
   "id": "6cadba59-5c4d-4ae7-912f-ca93f0f31349",
   "metadata": {
    "tags": []
   },
   "outputs": [],
   "source": [
    "data = fewRel('data/')"
   ]
  },
  {
   "cell_type": "code",
   "execution_count": 24,
   "id": "b5f90f89-fa4b-435e-92b6-fe1484a17332",
   "metadata": {
    "tags": []
   },
   "outputs": [],
   "source": [
    "df = pd.DataFrame(data)"
   ]
  },
  {
   "cell_type": "code",
   "execution_count": 31,
   "id": "07d45c67-969c-4f2d-a28d-53c3ee0ac66a",
   "metadata": {
    "tags": []
   },
   "outputs": [
    {
     "data": {
      "text/html": [
       "<div>\n",
       "<style scoped>\n",
       "    .dataframe tbody tr th:only-of-type {\n",
       "        vertical-align: middle;\n",
       "    }\n",
       "\n",
       "    .dataframe tbody tr th {\n",
       "        vertical-align: top;\n",
       "    }\n",
       "\n",
       "    .dataframe thead th {\n",
       "        text-align: right;\n",
       "    }\n",
       "</style>\n",
       "<table border=\"1\" class=\"dataframe\">\n",
       "  <thead>\n",
       "    <tr style=\"text-align: right;\">\n",
       "      <th></th>\n",
       "      <th>sentence</th>\n",
       "      <th>relation</th>\n",
       "      <th>entities</th>\n",
       "    </tr>\n",
       "  </thead>\n",
       "  <tbody>\n",
       "    <tr>\n",
       "      <th>0</th>\n",
       "      <td>[Merpati, flight, 106, departed, Jakarta, (, C...</td>\n",
       "      <td>P931</td>\n",
       "      <td>(tjq, tanjung pandan)</td>\n",
       "    </tr>\n",
       "  </tbody>\n",
       "</table>\n",
       "</div>"
      ],
      "text/plain": [
       "                                            sentence relation  \\\n",
       "0  [Merpati, flight, 106, departed, Jakarta, (, C...     P931   \n",
       "\n",
       "                entities  \n",
       "0  (tjq, tanjung pandan)  "
      ]
     },
     "execution_count": 31,
     "metadata": {},
     "output_type": "execute_result"
    }
   ],
   "source": [
    "df.head(1)"
   ]
  },
  {
   "cell_type": "code",
   "execution_count": 35,
   "id": "0be6ef4e-2682-4dcd-9ece-cb70415e398f",
   "metadata": {
    "tags": []
   },
   "outputs": [],
   "source": [
    "def random_rows_per_category(group):\n",
    "    return group.sample(n=1, random_state=42) "
   ]
  },
  {
   "cell_type": "code",
   "execution_count": 99,
   "id": "e9c68c42-90fe-4843-a1ac-5f29f33a781b",
   "metadata": {
    "tags": []
   },
   "outputs": [],
   "source": [
    "random_rows = df.groupby('relation', group_keys=False).apply(random_rows_per_category)\n"
   ]
  },
  {
   "cell_type": "code",
   "execution_count": 100,
   "id": "20c9d867-377d-46df-8893-9d8b7dcbd724",
   "metadata": {
    "tags": []
   },
   "outputs": [
    {
     "data": {
      "text/html": [
       "<div>\n",
       "<style scoped>\n",
       "    .dataframe tbody tr th:only-of-type {\n",
       "        vertical-align: middle;\n",
       "    }\n",
       "\n",
       "    .dataframe tbody tr th {\n",
       "        vertical-align: top;\n",
       "    }\n",
       "\n",
       "    .dataframe thead th {\n",
       "        text-align: right;\n",
       "    }\n",
       "</style>\n",
       "<table border=\"1\" class=\"dataframe\">\n",
       "  <thead>\n",
       "    <tr style=\"text-align: right;\">\n",
       "      <th></th>\n",
       "      <th>sentence</th>\n",
       "      <th>relation</th>\n",
       "      <th>entities</th>\n",
       "    </tr>\n",
       "  </thead>\n",
       "  <tbody>\n",
       "    <tr>\n",
       "      <th>42858</th>\n",
       "      <td>[The, ICAC, has, jurisdiction, over, state, an...</td>\n",
       "      <td>P1001</td>\n",
       "      <td>(icac, new south wales)</td>\n",
       "    </tr>\n",
       "    <tr>\n",
       "      <th>41458</th>\n",
       "      <td>[\", See, also, :, \", Peter, Artedi, (, 1705–17...</td>\n",
       "      <td>P101</td>\n",
       "      <td>(peter artedi, ichthyology)</td>\n",
       "    </tr>\n",
       "    <tr>\n",
       "      <th>21158</th>\n",
       "      <td>[Bhupinder, Singh, Hooda, (, born, 15, Septemb...</td>\n",
       "      <td>P102</td>\n",
       "      <td>(bhupinder singh hooda, indian national congress)</td>\n",
       "    </tr>\n",
       "    <tr>\n",
       "      <th>40058</th>\n",
       "      <td>[It, belongs, to, the, hobby, group, ,, a, rat...</td>\n",
       "      <td>P105</td>\n",
       "      <td>(hobby, subgenus)</td>\n",
       "    </tr>\n",
       "    <tr>\n",
       "      <th>25358</th>\n",
       "      <td>[Jaume, Serra, Serra, (, born, June, 11, ,, 19...</td>\n",
       "      <td>P106</td>\n",
       "      <td>(jaume serra serra, politician)</td>\n",
       "    </tr>\n",
       "    <tr>\n",
       "      <th>...</th>\n",
       "      <td>...</td>\n",
       "      <td>...</td>\n",
       "      <td>...</td>\n",
       "    </tr>\n",
       "    <tr>\n",
       "      <th>35858</th>\n",
       "      <td>[Adila, Fachiri, made, a, recording, of, the, ...</td>\n",
       "      <td>P86</td>\n",
       "      <td>(10th violin sonata, beethoven)</td>\n",
       "    </tr>\n",
       "    <tr>\n",
       "      <th>158</th>\n",
       "      <td>[Hill, had, left, his, luggage, at, Lee, Bird,...</td>\n",
       "      <td>P931</td>\n",
       "      <td>(lee bird field, north platte, nebraska)</td>\n",
       "    </tr>\n",
       "    <tr>\n",
       "      <th>26758</th>\n",
       "      <td>[He, was, born, in, Christiania, as, a, son, o...</td>\n",
       "      <td>P937</td>\n",
       "      <td>(carl johan michelet, christiania)</td>\n",
       "    </tr>\n",
       "    <tr>\n",
       "      <th>33758</th>\n",
       "      <td>[In, Over, the, river, Seeve, flows, into, the...</td>\n",
       "      <td>P974</td>\n",
       "      <td>(elbe, seeve)</td>\n",
       "    </tr>\n",
       "    <tr>\n",
       "      <th>17658</th>\n",
       "      <td>[The, Frank, Walsh, -, led, Australian, Labor,...</td>\n",
       "      <td>P991</td>\n",
       "      <td>(1965 election, frank walsh)</td>\n",
       "    </tr>\n",
       "  </tbody>\n",
       "</table>\n",
       "<p>64 rows × 3 columns</p>\n",
       "</div>"
      ],
      "text/plain": [
       "                                                sentence relation  \\\n",
       "42858  [The, ICAC, has, jurisdiction, over, state, an...    P1001   \n",
       "41458  [\", See, also, :, \", Peter, Artedi, (, 1705–17...     P101   \n",
       "21158  [Bhupinder, Singh, Hooda, (, born, 15, Septemb...     P102   \n",
       "40058  [It, belongs, to, the, hobby, group, ,, a, rat...     P105   \n",
       "25358  [Jaume, Serra, Serra, (, born, June, 11, ,, 19...     P106   \n",
       "...                                                  ...      ...   \n",
       "35858  [Adila, Fachiri, made, a, recording, of, the, ...      P86   \n",
       "158    [Hill, had, left, his, luggage, at, Lee, Bird,...     P931   \n",
       "26758  [He, was, born, in, Christiania, as, a, son, o...     P937   \n",
       "33758  [In, Over, the, river, Seeve, flows, into, the...     P974   \n",
       "17658  [The, Frank, Walsh, -, led, Australian, Labor,...     P991   \n",
       "\n",
       "                                                entities  \n",
       "42858                            (icac, new south wales)  \n",
       "41458                        (peter artedi, ichthyology)  \n",
       "21158  (bhupinder singh hooda, indian national congress)  \n",
       "40058                                  (hobby, subgenus)  \n",
       "25358                    (jaume serra serra, politician)  \n",
       "...                                                  ...  \n",
       "35858                    (10th violin sonata, beethoven)  \n",
       "158             (lee bird field, north platte, nebraska)  \n",
       "26758                 (carl johan michelet, christiania)  \n",
       "33758                                      (elbe, seeve)  \n",
       "17658                       (1965 election, frank walsh)  \n",
       "\n",
       "[64 rows x 3 columns]"
      ]
     },
     "execution_count": 100,
     "metadata": {},
     "output_type": "execute_result"
    }
   ],
   "source": [
    "random_rows"
   ]
  },
  {
   "cell_type": "markdown",
   "id": "06244330-df7b-4e3c-be5c-e1f0d5b925c1",
   "metadata": {},
   "source": [
    "### Entities remain the same"
   ]
  },
  {
   "cell_type": "code",
   "execution_count": null,
   "id": "29208aad-da8f-4764-be6c-51adcace314a",
   "metadata": {},
   "outputs": [],
   "source": [
    "example = \"'The FBI has jurisdiction over federal and local government in Texas.' is augumented to 'he CCB has jurisdiction over regional and local government in Brazil.'\""
   ]
  },
  {
   "cell_type": "code",
   "execution_count": 83,
   "id": "915c523e-d153-48f4-932f-5e89ede3d464",
   "metadata": {
    "tags": []
   },
   "outputs": [],
   "source": [
    "question = 'Please augment 3 syntactically and semantically correct sentences, each distinct from the preceding one,by introducing separate named entities:' + example + ' text ='"
   ]
  },
  {
   "cell_type": "code",
   "execution_count": 101,
   "id": "66f3b305-4c0e-4ee1-86e0-c3fe43fb2ea4",
   "metadata": {
    "tags": []
   },
   "outputs": [],
   "source": [
    "all_augumented_data = []\n",
    "for i in range(10):\n",
    "    random_rows = df.groupby('relation', group_keys=False).apply(random_rows_per_category)\n",
    "    for index, row in random_rows.iterrows():\n",
    "        single_aug_data = {}\n",
    "        sent = ' '.join(row['sentence'])\n",
    "        augumented_text = process_data(llm(question + sent))\n",
    "        #print(process_data(augumented_text))\n",
    "        single_aug_data['sentences'] = augumented_text\n",
    "        single_aug_data['relation'] = row['relation']\n",
    "        single_aug_data['entities'] = row['entities']\n",
    "       # output = augumented_text +\", \" + row['relation'] + \", \" +  row['entities'][0] +\", \" +  row['entities'][1]\n",
    "        all_augumented_data.append(single_aug_data)"
   ]
  },
  {
   "cell_type": "code",
   "execution_count": 102,
   "id": "f7483f78-9eb4-47ca-9681-a91a49568f55",
   "metadata": {
    "tags": []
   },
   "outputs": [
    {
     "data": {
      "text/plain": [
       "640"
      ]
     },
     "execution_count": 102,
     "metadata": {},
     "output_type": "execute_result"
    }
   ],
   "source": []
  },
  {
   "cell_type": "code",
   "execution_count": 89,
   "id": "e6bcb955-b03a-4b4d-982e-8f3d3cc9e2ae",
   "metadata": {
    "tags": []
   },
   "outputs": [],
   "source": [
    "def process_data(text):\n",
    "    sentences = re.split(r'\\d+\\.\\s+', text)\n",
    "    sentences = [sentence for sentence in sentences if sentence.strip()]    \n",
    "    return sentences"
   ]
  },
  {
   "cell_type": "code",
   "execution_count": 120,
   "id": "4ae85931-7edc-4bcb-b7fe-d6c9fb596584",
   "metadata": {
    "tags": []
   },
   "outputs": [],
   "source": []
  },
  {
   "cell_type": "code",
   "execution_count": 136,
   "id": "1525a4d4-1cc1-4594-af96-bfa5971f5bb3",
   "metadata": {
    "tags": []
   },
   "outputs": [],
   "source": [
    "def save(file_path,data):\n",
    "    with open(file_path, \"w\") as json_file:\n",
    "        json.dump(data, json_file)\n",
    "\n",
    "    print(f'Data saved to {file_path}')"
   ]
  },
  {
   "cell_type": "code",
   "execution_count": 106,
   "id": "4738292e-832b-4e15-8115-e89adeec39b1",
   "metadata": {
    "tags": []
   },
   "outputs": [],
   "source": [
    "def nytFb(path):\n",
    "    dist = \"train\"\n",
    "    \n",
    "    temp_sent = \"\"\n",
    "    \n",
    "    temp_rel = \"\"\n",
    "    data = {}\n",
    "    data_list = []  # Create a list to collect dictionaries for each row\n",
    "    sentences = []\n",
    "    relations = []\n",
    "    entities = []\n",
    "   \n",
    "    for filename in os.listdir(path):\n",
    "        if not filename.endswith('.json'): continue\n",
    "        fullname = os.path.join(path, filename)\n",
    "       \n",
    "        if filename == \"test.json\":\n",
    "            dist = 'test'\n",
    "        elif filename == \"train.json\":\n",
    "            dist = 'train'\n",
    "        else:\n",
    "            dist = 'valid'\n",
    "        data2 = pd.read_json(r''+ fullname, lines=True)\n",
    "        print(data2.head())\n",
    "        return data2\n",
    "       \n",
    "    return data\n",
    "   "
   ]
  },
  {
   "cell_type": "code",
   "execution_count": 107,
   "id": "bd5f0bc9-4edd-4e4c-bd02-fb76ffa89c26",
   "metadata": {
    "tags": []
   },
   "outputs": [
    {
     "name": "stdout",
     "output_type": "stream",
     "text": [
      "                                            sentText  \\\n",
      "0  Massachusetts ASTON MAGNA Great Barrington ; a...   \n",
      "1  North Carolina EASTERN MUSIC FESTIVAL Greensbo...   \n",
      "2  It will be the final movie credited to Debra H...   \n",
      "3  In a 3-0 victory over the Crew on Saturday in ...   \n",
      "4  The United States ambassador to Mexico , Tony ...   \n",
      "\n",
      "                                           articleId  \\\n",
      "0  /m/vinci8/data1/riedel/projects/relation/kb/ny...   \n",
      "1  /m/vinci8/data1/riedel/projects/relation/kb/ny...   \n",
      "2  /m/vinci8/data1/riedel/projects/relation/kb/ny...   \n",
      "3  /m/vinci8/data1/riedel/projects/relation/kb/ny...   \n",
      "4  /m/vinci8/data1/riedel/projects/relation/kb/ny...   \n",
      "\n",
      "                                    relationMentions  \\\n",
      "0  [{'em1Text': 'Annandale-on-Hudson', 'em2Text':...   \n",
      "1  [{'em1Text': 'North Carolina', 'em2Text': 'Gre...   \n",
      "2  [{'em1Text': 'Debra Hill', 'em2Text': 'Haddonf...   \n",
      "3  [{'em1Text': 'Ohio', 'em2Text': 'Columbus', 'l...   \n",
      "4  [{'em1Text': 'Mexico', 'em2Text': 'Nuevo Lared...   \n",
      "\n",
      "                                      entityMentions  sentId  \n",
      "0  [{'start': 1, 'label': 'ORGANIZATION', 'text':...       1  \n",
      "1  [{'start': 0, 'label': 'LOCATION', 'text': 'No...       2  \n",
      "2  [{'start': 0, 'label': 'LOCATION', 'text': 'De...       1  \n",
      "3  [{'start': 0, 'label': 'LOCATION', 'text': 'Co...       1  \n",
      "4  [{'start': 0, 'label': 'LOCATION', 'text': 'Un...       1  \n"
     ]
    }
   ],
   "source": [
    "data_nyt = nytFb('data/nyt/')"
   ]
  },
  {
   "cell_type": "code",
   "execution_count": 114,
   "id": "33c8301e-7a48-4d05-bae1-f4ad9a8df2f1",
   "metadata": {
    "tags": []
   },
   "outputs": [],
   "source": [
    "nyt_df = pd.DataFrame(columns=['sentences', 'relation', 'entities'])\n",
    "\n",
    "# Loop through the original DataFrame and perform data manipulation\n",
    "for index, row in data_nyt.iterrows():\n",
    "    # Perform your data manipulation here\n",
    "    sentence = row['sentText']\n",
    "    relation = row['relationMentions'][0]['label'].split('/')[-1] \n",
    "    ent1 = row['entityMentions'][0]['text']\n",
    "    ent2 = row['entityMentions'][1]['text']\n",
    "    entities = (ent1, ent2)\n",
    "\n",
    "    # Create a temporary DataFrame for the current row\n",
    "    temp_df = pd.DataFrame({'sentences': [sentence], 'relation': [relation], 'entities': [entities]})\n",
    "\n",
    "    # Concatenate the temporary DataFrame with the new_df\n",
    "    nyt_df = pd.concat([nyt_df, temp_df], ignore_index=True)"
   ]
  },
  {
   "cell_type": "code",
   "execution_count": 116,
   "id": "26b3b499-f6a6-4ea5-b0bf-4dd2da45a870",
   "metadata": {
    "tags": []
   },
   "outputs": [
    {
     "data": {
      "text/html": [
       "<div>\n",
       "<style scoped>\n",
       "    .dataframe tbody tr th:only-of-type {\n",
       "        vertical-align: middle;\n",
       "    }\n",
       "\n",
       "    .dataframe tbody tr th {\n",
       "        vertical-align: top;\n",
       "    }\n",
       "\n",
       "    .dataframe thead th {\n",
       "        text-align: right;\n",
       "    }\n",
       "</style>\n",
       "<table border=\"1\" class=\"dataframe\">\n",
       "  <thead>\n",
       "    <tr style=\"text-align: right;\">\n",
       "      <th></th>\n",
       "      <th>sentences</th>\n",
       "      <th>relation</th>\n",
       "      <th>entities</th>\n",
       "    </tr>\n",
       "  </thead>\n",
       "  <tbody>\n",
       "    <tr>\n",
       "      <th>0</th>\n",
       "      <td>Massachusetts ASTON MAGNA Great Barrington ; a...</td>\n",
       "      <td>contains</td>\n",
       "      <td>(Bard College, Annandale-on-Hudson)</td>\n",
       "    </tr>\n",
       "    <tr>\n",
       "      <th>1</th>\n",
       "      <td>North Carolina EASTERN MUSIC FESTIVAL Greensbo...</td>\n",
       "      <td>contains</td>\n",
       "      <td>(North Carolina, Greensboro)</td>\n",
       "    </tr>\n",
       "    <tr>\n",
       "      <th>2</th>\n",
       "      <td>It will be the final movie credited to Debra H...</td>\n",
       "      <td>place_of_birth</td>\n",
       "      <td>(Debra Hill, Haddonfield)</td>\n",
       "    </tr>\n",
       "    <tr>\n",
       "      <th>3</th>\n",
       "      <td>In a 3-0 victory over the Crew on Saturday in ...</td>\n",
       "      <td>contains</td>\n",
       "      <td>(Columbus, Ohio)</td>\n",
       "    </tr>\n",
       "    <tr>\n",
       "      <th>4</th>\n",
       "      <td>The United States ambassador to Mexico , Tony ...</td>\n",
       "      <td>contains</td>\n",
       "      <td>(United States, Mexico)</td>\n",
       "    </tr>\n",
       "  </tbody>\n",
       "</table>\n",
       "</div>"
      ],
      "text/plain": [
       "                                           sentences        relation  \\\n",
       "0  Massachusetts ASTON MAGNA Great Barrington ; a...        contains   \n",
       "1  North Carolina EASTERN MUSIC FESTIVAL Greensbo...        contains   \n",
       "2  It will be the final movie credited to Debra H...  place_of_birth   \n",
       "3  In a 3-0 victory over the Crew on Saturday in ...        contains   \n",
       "4  The United States ambassador to Mexico , Tony ...        contains   \n",
       "\n",
       "                              entities  \n",
       "0  (Bard College, Annandale-on-Hudson)  \n",
       "1         (North Carolina, Greensboro)  \n",
       "2            (Debra Hill, Haddonfield)  \n",
       "3                     (Columbus, Ohio)  \n",
       "4              (United States, Mexico)  "
      ]
     },
     "execution_count": 116,
     "metadata": {},
     "output_type": "execute_result"
    }
   ],
   "source": [
    "nyt_df.head()"
   ]
  },
  {
   "cell_type": "code",
   "execution_count": 143,
   "id": "ea94ccc8-e74f-4102-9101-ca02152840aa",
   "metadata": {
    "tags": []
   },
   "outputs": [],
   "source": [
    "from tqdm import tqdm\n",
    "def augument(df, num_iterations = 10):\n",
    "# Define the number of iterations\n",
    "    \n",
    "\n",
    "    # Create an empty list to store augmented data\n",
    "    all_augmented_data = []\n",
    "\n",
    "    # Iterate using tqdm for a progress bar\n",
    "    for i in tqdm(range(num_iterations), desc=\"Processing\"):\n",
    "        random_rows = df.groupby('relation', group_keys=False).apply(random_rows_per_category)\n",
    "\n",
    "        for index, row in tqdm(random_rows.iterrows()):\n",
    "            single_aug_data = {}\n",
    "            sent = row['sentences']\n",
    "            augumented_text = process_data(llm(question + sent))\n",
    "\n",
    "            single_aug_data['sentences'] = augumented_text\n",
    "            single_aug_data['relation'] = row['relation']\n",
    "            single_aug_data['entities'] = row['entities']\n",
    "\n",
    "            all_augmented_data.append(single_aug_data)\n",
    "    return all_augmented_data"
   ]
  },
  {
   "cell_type": "code",
   "execution_count": 119,
   "id": "1f67675b-df2b-4409-bca6-bd666ffecc6e",
   "metadata": {
    "tags": []
   },
   "outputs": [
    {
     "data": {
      "text/plain": [
       "240"
      ]
     },
     "execution_count": 119,
     "metadata": {},
     "output_type": "execute_result"
    }
   ],
   "source": [
    "len(all_augmented_data)"
   ]
  },
  {
   "cell_type": "code",
   "execution_count": 122,
   "id": "49c76bee-5346-4abb-9969-9c52bc68e9b8",
   "metadata": {
    "tags": []
   },
   "outputs": [
    {
     "name": "stdout",
     "output_type": "stream",
     "text": [
      "relation\n",
      "contains                    30240\n",
      "nationality                  5219\n",
      "place_lived                  5024\n",
      "company                      3971\n",
      "capital                      2430\n",
      "neighborhood_of              2108\n",
      "place_of_birth               1580\n",
      "administrative_divisions     1518\n",
      "country                      1517\n",
      "place_of_death               1023\n",
      "children                      381\n",
      "founders                      377\n",
      "place_founded                 318\n",
      "major_shareholder_of           98\n",
      "teams                          88\n",
      "location                       86\n",
      "major_shareholders             84\n",
      "religion                       53\n",
      "advisors                       34\n",
      "geographic_distribution        26\n",
      "ethnicity                       9\n",
      "people                          9\n",
      "profession                      2\n",
      "industry                        1\n",
      "Name: count, dtype: int64\n"
     ]
    }
   ],
   "source": [
    "category_counts = nyt_df['relation'].value_counts()\n",
    "\n",
    "print(category_counts)"
   ]
  },
  {
   "cell_type": "code",
   "execution_count": 127,
   "id": "3eaa7d5c-a680-4432-868d-7caddf288f91",
   "metadata": {
    "tags": []
   },
   "outputs": [
    {
     "data": {
      "image/png": "[encoded data removed]",
      "text/plain": [
       "<Figure size 640x480 with 1 Axes>"
      ]
     },
     "metadata": {},
     "output_type": "display_data"
    }
   ],
   "source": [
    "import matplotlib.pyplot as plt\n",
    "\n",
    "plt.barh(category_counts.index, category_counts.values)\n",
    "plt.xscale('log')  # Use a logarithmic scale on the x-axis\n",
    "\n",
    "# Add labels and title\n",
    "plt.ylabel('Relations')\n",
    "plt.xlabel('Logarithmic Scale of Counts')\n",
    "#plt.title('Relation Distribution (Logarithmic Scale)')\n",
    "plt.savefig('nyt_relation_distribution.pdf', format='pdf', dpi=300, bbox_inches='tight')\n",
    "\n",
    "# Show the chart\n",
    "plt.show()"
   ]
  },
  {
   "cell_type": "code",
   "execution_count": 144,
   "id": "d5836db5-742d-4949-97cc-210f3483f7a8",
   "metadata": {
    "tags": []
   },
   "outputs": [],
   "source": [
    "threshold = 100\n",
    "\n",
    "# Filter categories with counts less than the threshold\n",
    "categories_below_threshold = category_counts[category_counts < threshold]\n",
    "\n",
    "# Create two separate DataFrames based on the filter\n",
    "df_below_threshold = nyt_df[nyt_df['relation'].isin(categories_below_threshold.index)]\n",
    "df_above_threshold = nyt_df[~nyt_df['relation'].isin(categories_below_threshold.index)]\n"
   ]
  },
  {
   "cell_type": "code",
   "execution_count": 145,
   "id": "cbc93494-6a51-4cb2-b78e-689eb4c7b053",
   "metadata": {
    "tags": []
   },
   "outputs": [
    {
     "name": "stderr",
     "output_type": "stream",
     "text": [
      "Processing:   0%|          | 0/20 [00:00<?, ?it/s]\n",
      "0it [00:00, ?it/s]\u001b[A\n",
      "1it [00:09,  9.00s/it]\u001b[A\n",
      "2it [00:17,  8.82s/it]\u001b[A\n",
      "3it [00:25,  8.53s/it]\u001b[A\n",
      "4it [00:34,  8.38s/it]\u001b[A\n",
      "5it [00:42,  8.35s/it]\u001b[A\n",
      "6it [00:49,  7.79s/it]\u001b[A\n",
      "7it [00:56,  7.75s/it]\u001b[A\n",
      "8it [01:02,  7.26s/it]\u001b[A\n",
      "9it [01:10,  7.46s/it]\u001b[A\n",
      "10it [01:19,  7.84s/it]\u001b[A\n",
      "11it [01:27,  7.96s/it]\u001b[A\n",
      "Processing:   5%|▌         | 1/20 [01:27<27:43, 87.56s/it]\n",
      "0it [00:00, ?it/s]\u001b[A\n",
      "1it [00:09,  9.00s/it]\u001b[A\n",
      "2it [00:17,  8.82s/it]\u001b[A\n",
      "3it [00:25,  8.53s/it]\u001b[A\n",
      "4it [00:34,  8.38s/it]\u001b[A\n",
      "5it [00:42,  8.35s/it]\u001b[A\n",
      "6it [00:49,  7.89s/it]\u001b[A\n",
      "7it [00:54,  7.10s/it]\u001b[A\n",
      "8it [01:02,  7.40s/it]\u001b[A\n",
      "9it [01:10,  7.56s/it]\u001b[A\n",
      "10it [01:19,  7.91s/it]\u001b[A\n",
      "11it [01:20,  7.30s/it]\u001b[A\n",
      "Processing:  10%|█         | 2/20 [02:47<24:59, 83.30s/it]\n",
      "0it [00:00, ?it/s]\u001b[A\n",
      "1it [00:09,  9.00s/it]\u001b[A\n",
      "2it [00:17,  8.82s/it]\u001b[A\n",
      "3it [00:25,  8.52s/it]\u001b[A\n",
      "4it [00:33,  8.22s/it]\u001b[A\n",
      "5it [00:41,  8.25s/it]\u001b[A\n",
      "6it [00:49,  8.05s/it]\u001b[A\n",
      "7it [00:57,  7.92s/it]\u001b[A\n",
      "8it [01:04,  7.68s/it]\u001b[A\n",
      "9it [01:12,  7.76s/it]\u001b[A\n",
      "10it [01:21,  8.05s/it]\u001b[A\n",
      "11it [01:28,  8.05s/it]\u001b[A\n",
      "Processing:  15%|█▌        | 3/20 [04:16<24:17, 85.72s/it]\n",
      "0it [00:00, ?it/s]\u001b[A\n",
      "1it [00:09,  9.00s/it]\u001b[A\n",
      "2it [00:17,  8.82s/it]\u001b[A\n",
      "3it [00:25,  8.52s/it]\u001b[A\n",
      "4it [00:33,  8.13s/it]\u001b[A\n",
      "5it [00:41,  8.19s/it]\u001b[A\n",
      "6it [00:49,  8.01s/it]\u001b[A\n",
      "7it [00:55,  7.33s/it]\u001b[A\n",
      "8it [01:03,  7.55s/it]\u001b[A\n",
      "9it [01:11,  7.66s/it]\u001b[A\n",
      "10it [01:19,  7.98s/it]\u001b[A\n",
      "11it [01:27,  8.00s/it]\u001b[A\n",
      "Processing:  20%|██        | 4/20 [05:44<23:05, 86.61s/it]\n",
      "0it [00:00, ?it/s]\u001b[A\n",
      "1it [00:09,  9.00s/it]\u001b[A\n",
      "2it [00:17,  8.82s/it]\u001b[A\n",
      "3it [00:25,  8.53s/it]\u001b[A\n",
      "4it [00:34,  8.39s/it]\u001b[A\n",
      "5it [00:42,  8.35s/it]\u001b[A\n",
      "6it [00:49,  7.92s/it]\u001b[A\n",
      "7it [00:56,  7.73s/it]\u001b[A\n",
      "8it [01:04,  7.83s/it]\u001b[A\n",
      "9it [01:12,  7.85s/it]\u001b[A\n",
      "10it [01:16,  6.68s/it]\u001b[A\n",
      "11it [01:22,  7.49s/it]\u001b[A\n",
      "Processing:  25%|██▌       | 5/20 [07:06<21:16, 85.11s/it]\n",
      "0it [00:00, ?it/s]\u001b[A\n",
      "1it [00:09,  9.00s/it]\u001b[A\n",
      "2it [00:17,  8.82s/it]\u001b[A\n",
      "3it [00:21,  6.46s/it]\u001b[A\n",
      "4it [00:28,  6.73s/it]\u001b[A\n",
      "5it [00:36,  7.30s/it]\u001b[A\n",
      "6it [00:44,  7.42s/it]\u001b[A\n",
      "7it [00:52,  7.50s/it]\u001b[A\n",
      "8it [01:00,  7.67s/it]\u001b[A\n",
      "9it [01:08,  7.74s/it]\u001b[A\n",
      "10it [01:16,  8.04s/it]\u001b[A\n",
      "11it [01:22,  7.52s/it]\u001b[A\n",
      "Processing:  30%|███       | 6/20 [08:29<19:40, 84.31s/it]\n",
      "0it [00:00, ?it/s]\u001b[A\n",
      "1it [00:08,  9.00s/it]\u001b[A\n",
      "2it [00:17,  8.82s/it]\u001b[A\n",
      "3it [00:25,  8.52s/it]\u001b[A\n",
      "4it [00:34,  8.38s/it]\u001b[A\n",
      "5it [00:42,  8.35s/it]\u001b[A\n",
      "6it [00:49,  7.95s/it]\u001b[A\n",
      "7it [00:49,  5.52s/it]\u001b[A\n",
      "8it [00:55,  5.67s/it]\u001b[A\n",
      "9it [01:03,  6.37s/it]\u001b[A\n",
      "10it [01:12,  7.09s/it]\u001b[A\n",
      "11it [01:19,  7.22s/it]\u001b[A\n",
      "Processing:  35%|███▌      | 7/20 [09:49<17:55, 82.72s/it]\n",
      "0it [00:00, ?it/s]\u001b[A\n",
      "1it [00:09,  9.00s/it]\u001b[A\n",
      "2it [00:17,  8.83s/it]\u001b[A\n",
      "3it [00:25,  8.53s/it]\u001b[A\n",
      "4it [00:32,  7.72s/it]\u001b[A\n",
      "5it [00:40,  7.93s/it]\u001b[A\n",
      "6it [00:48,  7.84s/it]\u001b[A\n",
      "7it [00:54,  7.44s/it]\u001b[A\n",
      "8it [01:01,  7.02s/it]\u001b[A\n",
      "9it [01:08,  7.30s/it]\u001b[A\n",
      "10it [01:17,  7.73s/it]\u001b[A\n",
      "11it [01:25,  7.79s/it]\u001b[A\n",
      "Processing:  40%|████      | 8/20 [11:14<16:44, 83.68s/it]\n",
      "0it [00:00, ?it/s]\u001b[A\n",
      "1it [00:09,  9.01s/it]\u001b[A\n",
      "2it [00:17,  8.83s/it]\u001b[A\n",
      "3it [00:25,  8.53s/it]\u001b[A\n",
      "4it [00:33,  8.18s/it]\u001b[A\n",
      "5it [00:41,  8.22s/it]\u001b[A\n",
      "6it [00:49,  8.03s/it]\u001b[A\n",
      "7it [00:57,  7.91s/it]\u001b[A\n",
      "8it [01:05,  7.95s/it]\u001b[A\n",
      "9it [01:13,  7.94s/it]\u001b[A\n",
      "10it [01:21,  8.18s/it]\u001b[A\n",
      "11it [01:29,  8.17s/it]\u001b[A\n",
      "Processing:  45%|████▌     | 9/20 [12:44<15:41, 85.61s/it]\n",
      "0it [00:00, ?it/s]\u001b[A\n",
      "1it [00:09,  9.00s/it]\u001b[A\n",
      "2it [00:17,  8.82s/it]\u001b[A\n",
      "3it [00:25,  8.52s/it]\u001b[A\n",
      "4it [00:34,  8.38s/it]\u001b[A\n",
      "5it [00:42,  8.35s/it]\u001b[A\n",
      "6it [00:48,  7.50s/it]\u001b[A\n",
      "7it [00:55,  7.55s/it]\u001b[A\n",
      "8it [01:01,  7.11s/it]\u001b[A\n",
      "9it [01:09,  7.36s/it]\u001b[A\n",
      "10it [01:11,  5.55s/it]\u001b[A\n",
      "11it [01:18,  7.11s/it]\u001b[A\n",
      "Processing:  50%|█████     | 10/20 [14:02<13:53, 83.31s/it]\n",
      "0it [00:00, ?it/s]\u001b[A\n",
      "1it [00:09,  9.00s/it]\u001b[A\n",
      "2it [00:17,  8.82s/it]\u001b[A\n",
      "3it [00:25,  8.53s/it]\u001b[A\n",
      "4it [00:34,  8.38s/it]\u001b[A\n",
      "5it [00:42,  8.27s/it]\u001b[A\n",
      "6it [00:49,  8.06s/it]\u001b[A\n",
      "7it [00:54,  7.07s/it]\u001b[A\n",
      "8it [01:02,  7.38s/it]\u001b[A\n",
      "9it [01:10,  7.55s/it]\u001b[A\n",
      "10it [01:15,  6.64s/it]\u001b[A\n",
      "11it [01:21,  7.43s/it]\u001b[A\n",
      "Processing:  55%|█████▌    | 11/20 [15:24<12:25, 82.83s/it]\n",
      "0it [00:00, ?it/s]\u001b[A\n",
      "1it [00:09,  9.00s/it]\u001b[A\n",
      "2it [00:17,  8.62s/it]\u001b[A\n",
      "3it [00:25,  8.42s/it]\u001b[A\n",
      "4it [00:32,  8.00s/it]\u001b[A\n",
      "5it [00:41,  8.11s/it]\u001b[A\n",
      "6it [00:48,  7.95s/it]\u001b[A\n",
      "7it [00:55,  7.66s/it]\u001b[A\n",
      "8it [00:57,  5.80s/it]\u001b[A\n",
      "9it [01:05,  6.46s/it]\u001b[A\n",
      "10it [01:14,  7.15s/it]\u001b[A\n",
      "11it [01:21,  7.44s/it]\u001b[A\n",
      "Processing:  60%|██████    | 12/20 [16:46<11:00, 82.54s/it]\n",
      "0it [00:00, ?it/s]\u001b[A\n",
      "1it [00:08,  9.00s/it]\u001b[A\n",
      "2it [00:17,  8.82s/it]\u001b[A\n",
      "3it [00:25,  8.52s/it]\u001b[A\n",
      "4it [00:33,  8.34s/it]\u001b[A\n",
      "5it [00:42,  8.33s/it]\u001b[A\n",
      "6it [00:49,  8.10s/it]\u001b[A\n",
      "7it [00:57,  7.95s/it]\u001b[A\n",
      "8it [01:05,  7.98s/it]\u001b[A\n",
      "9it [01:13,  7.96s/it]\u001b[A\n",
      "10it [01:19,  7.25s/it]\u001b[A\n",
      "11it [01:26,  7.83s/it]\u001b[A\n",
      "Processing:  65%|██████▌   | 13/20 [18:12<09:45, 83.63s/it]\n",
      "0it [00:00, ?it/s]\u001b[A\n",
      "1it [00:08,  9.00s/it]\u001b[A\n",
      "2it [00:17,  8.82s/it]\u001b[A\n",
      "3it [00:25,  8.53s/it]\u001b[A\n",
      "4it [00:34,  8.38s/it]\u001b[A\n",
      "5it [00:42,  8.35s/it]\u001b[A\n",
      "6it [00:49,  8.11s/it]\u001b[A\n",
      "7it [00:55,  7.18s/it]\u001b[A\n",
      "8it [01:03,  7.45s/it]\u001b[A\n",
      "9it [01:11,  7.60s/it]\u001b[A\n",
      "10it [01:19,  7.94s/it]\u001b[A\n",
      "11it [01:27,  7.99s/it]\u001b[A\n",
      "Processing:  70%|███████   | 14/20 [19:40<08:29, 84.93s/it]\n",
      "0it [00:00, ?it/s]\u001b[A\n",
      "1it [00:09,  9.00s/it]\u001b[A\n",
      "2it [00:17,  8.81s/it]\u001b[A\n",
      "3it [00:20,  6.19s/it]\u001b[A\n",
      "4it [00:28,  6.97s/it]\u001b[A\n",
      "5it [00:37,  7.45s/it]\u001b[A\n",
      "6it [00:44,  7.52s/it]\u001b[A\n",
      "7it [00:50,  6.82s/it]\u001b[A\n",
      "8it [00:58,  7.21s/it]\u001b[A\n",
      "9it [01:06,  7.39s/it]\u001b[A\n",
      "10it [01:14,  7.80s/it]\u001b[A\n",
      "11it [01:21,  7.40s/it]\u001b[A\n",
      "Processing:  75%|███████▌  | 15/20 [21:01<06:59, 83.87s/it]\n",
      "0it [00:00, ?it/s]\u001b[A\n",
      "1it [00:08,  9.00s/it]\u001b[A\n",
      "2it [00:17,  8.82s/it]\u001b[A\n",
      "3it [00:25,  8.53s/it]\u001b[A\n",
      "4it [00:33,  8.16s/it]\u001b[A\n",
      "5it [00:41,  8.21s/it]\u001b[A\n",
      "6it [00:49,  8.02s/it]\u001b[A\n",
      "7it [00:57,  7.90s/it]\u001b[A\n",
      "8it [01:05,  7.94s/it]\u001b[A\n",
      "9it [01:12,  7.67s/it]\u001b[A\n",
      "10it [01:20,  7.99s/it]\u001b[A\n",
      "11it [01:28,  8.08s/it]\u001b[A\n",
      "Processing:  80%|████████  | 16/20 [22:30<05:41, 85.39s/it]\n",
      "0it [00:00, ?it/s]\u001b[A\n",
      "1it [00:08,  9.00s/it]\u001b[A\n",
      "2it [00:17,  8.82s/it]\u001b[A\n",
      "3it [00:25,  8.52s/it]\u001b[A\n",
      "4it [00:26,  5.55s/it]\u001b[A\n",
      "5it [00:33,  6.08s/it]\u001b[A\n",
      "6it [00:41,  6.61s/it]\u001b[A\n",
      "7it [00:46,  6.19s/it]\u001b[A\n",
      "8it [00:54,  6.78s/it]\u001b[A\n",
      "9it [01:02,  7.13s/it]\u001b[A\n",
      "10it [01:11,  7.62s/it]\u001b[A\n",
      "11it [01:18,  7.18s/it]\u001b[A\n",
      "Processing:  85%|████████▌ | 17/20 [23:49<04:10, 83.45s/it]\n",
      "0it [00:00, ?it/s]\u001b[A\n",
      "1it [00:09,  9.00s/it]\u001b[A\n",
      "2it [00:17,  8.82s/it]\u001b[A\n",
      "3it [00:25,  8.53s/it]\u001b[A\n",
      "4it [00:33,  7.99s/it]\u001b[A\n",
      "5it [00:41,  8.10s/it]\u001b[A\n",
      "6it [00:46,  7.26s/it]\u001b[A\n",
      "7it [00:54,  7.39s/it]\u001b[A\n",
      "8it [01:00,  7.03s/it]\u001b[A\n",
      "9it [01:08,  7.30s/it]\u001b[A\n",
      "10it [01:17,  7.73s/it]\u001b[A\n",
      "11it [01:25,  7.77s/it]\u001b[A\n",
      "Processing:  90%|█████████ | 18/20 [25:15<02:48, 84.04s/it]\n",
      "0it [00:00, ?it/s]\u001b[A\n",
      "1it [00:08,  8.99s/it]\u001b[A\n",
      "2it [00:17,  8.82s/it]\u001b[A\n",
      "3it [00:25,  8.53s/it]\u001b[A\n",
      "4it [00:34,  8.38s/it]\u001b[A\n",
      "5it [00:42,  8.35s/it]\u001b[A\n",
      "6it [00:48,  7.73s/it]\u001b[A\n",
      "7it [00:56,  7.71s/it]\u001b[A\n",
      "8it [01:04,  7.78s/it]\u001b[A\n",
      "9it [01:12,  7.82s/it]\u001b[A\n",
      "10it [01:21,  8.09s/it]\u001b[A\n",
      "11it [01:29,  8.10s/it]\u001b[A\n",
      "Processing:  95%|█████████▌| 19/20 [26:44<01:25, 85.56s/it]\n",
      "0it [00:00, ?it/s]\u001b[A\n",
      "1it [00:09,  9.00s/it]\u001b[A\n",
      "2it [00:17,  8.83s/it]\u001b[A\n",
      "3it [00:25,  8.53s/it]\u001b[A\n",
      "4it [00:34,  8.39s/it]\u001b[A\n",
      "5it [00:42,  8.35s/it]\u001b[A\n",
      "6it [00:50,  8.12s/it]\u001b[A\n",
      "7it [00:55,  7.16s/it]\u001b[A\n",
      "8it [00:58,  6.04s/it]\u001b[A\n",
      "9it [01:06,  6.62s/it]\u001b[A\n",
      "10it [01:15,  7.26s/it]\u001b[A\n",
      "11it [01:23,  7.57s/it]\u001b[A\n",
      "Processing: 100%|██████████| 20/20 [28:07<00:00, 84.38s/it]\n"
     ]
    }
   ],
   "source": [
    "augumented_data = augument(df_below_threshold,20)"
   ]
  },
  {
   "cell_type": "code",
   "execution_count": 146,
   "id": "c2d45e74-7761-4894-803e-85bd1f85f681",
   "metadata": {
    "tags": []
   },
   "outputs": [
    {
     "name": "stdout",
     "output_type": "stream",
     "text": [
      "Data saved to augumented_data/nyt_less100_100Plus_llama13_data_updated.json\n"
     ]
    }
   ],
   "source": [
    "file_path = \"augumented_data/nyt_less100_100Plus_llama13_data_updated.json\"\n",
    "save(file_path,augumented_data)"
   ]
  },
  {
   "cell_type": "code",
   "execution_count": 138,
   "id": "42a32e0d-bfd5-4567-8108-6dc0105cdb96",
   "metadata": {
    "tags": []
   },
   "outputs": [
    {
     "data": {
      "text/plain": [
       "480"
      ]
     },
     "execution_count": 138,
     "metadata": {},
     "output_type": "execute_result"
    }
   ],
   "source": [
    "len(augumented_data)"
   ]
  },
  {
   "cell_type": "code",
   "execution_count": 140,
   "id": "8a6f4f55-1ef9-438a-aec7-bfa9ca55f536",
   "metadata": {
    "tags": []
   },
   "outputs": [],
   "source": [
    "random_rows = df_below_threshold.groupby('relation', group_keys=False).apply(random_rows_per_category)"
   ]
  },
  {
   "cell_type": "code",
   "execution_count": null,
   "id": "fc0f12f3-0d3e-4984-8244-8607b4dcaeb9",
   "metadata": {},
   "outputs": [],
   "source": []
  }
 ],
 "metadata": {
  "kernelspec": {
   "display_name": "Python 3 (ipykernel)",
   "language": "python",
   "name": "python3"
  },
  "language_info": {
   "codemirror_mode": {
    "name": "ipython",
    "version": 3
   },
   "file_extension": ".py",
   "mimetype": "text/x-python",
   "name": "python",
   "nbconvert_exporter": "python",
   "pygments_lexer": "ipython3",
   "version": "3.11.6"
  }
 },
 "nbformat": 4,
 "nbformat_minor": 5
}
