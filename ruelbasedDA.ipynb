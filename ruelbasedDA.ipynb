{
 "cells": [
  {
   "cell_type": "code",
   "execution_count": 26,
   "id": "df1c1659-1241-4b1c-a058-d99521a4551c",
   "metadata": {
    "tags": []
   },
   "outputs": [],
   "source": [
    "import os\n",
    "import json\n",
    "import pandas as pd\n",
    "from tqdm import tqdm"
   ]
  },
  {
   "cell_type": "code",
   "execution_count": 17,
   "id": "643ef6fd-a1b2-4488-950a-cb66802455d5",
   "metadata": {
    "tags": []
   },
   "outputs": [],
   "source": [
    "def fewRel(path):\n",
    "    data_list = []  # Create a list to collect dictionaries for each row\n",
    "    sentences = []\n",
    "    relations = []\n",
    "    entities = []\n",
    "    data = {}\n",
    "    for filename in os.listdir(path):\n",
    "        if not filename.endswith('.json'):\n",
    "            continue\n",
    "        fullname = os.path.join(path, filename)\n",
    "        \n",
    "        with open(fullname) as f:\n",
    "            fewRel_corpus = json.load(f)\n",
    "            \n",
    "            for relation, value in fewRel_corpus.items():\n",
    "                for row in value:\n",
    "                    sentences.append(row['tokens'])\n",
    "                    relations.append(relation)\n",
    "                    entities.append((row['h'][0].strip(),row['t'][0].strip()))\n",
    "        data['sentence'] = sentences\n",
    "        data['relation'] = relations\n",
    "        data['entities'] = entities\n",
    "    \n",
    "    return data"
   ]
  },
  {
   "cell_type": "code",
   "execution_count": 20,
   "id": "20ba5334-f8c6-4483-a649-aef25e6e0d4e",
   "metadata": {
    "tags": []
   },
   "outputs": [],
   "source": [
    "df = pd.DataFrame(fewRel('data/'))"
   ]
  },
  {
   "cell_type": "code",
   "execution_count": 22,
   "id": "abf2582e-8cb5-4230-885b-f4cb40134ae7",
   "metadata": {
    "tags": []
   },
   "outputs": [],
   "source": [
    "def random_rows_per_category(group):\n",
    "    return group.sample(n=1, random_state=42) "
   ]
  },
  {
   "cell_type": "code",
   "execution_count": 23,
   "id": "22b6a587-6c8e-4100-b341-057b2e05eaca",
   "metadata": {
    "tags": []
   },
   "outputs": [],
   "source": [
    "random_rows = df.groupby('relation', group_keys=False).apply(random_rows_per_category)"
   ]
  },
  {
   "cell_type": "code",
   "execution_count": 24,
   "id": "0c5f5474-4aa2-4636-968a-c5848a79fc2e",
   "metadata": {
    "tags": []
   },
   "outputs": [],
   "source": [
    "example = \"'The FBI has jurisdiction over federal and local government in Texas.' is augumented to 'he CCB has jurisdiction over regional and local government in Brazil.'\""
   ]
  },
  {
   "cell_type": "code",
   "execution_count": 25,
   "id": "799ed2d2-2744-48a2-8951-d8746373f888",
   "metadata": {
    "tags": []
   },
   "outputs": [],
   "source": [
    "question = 'Write 5 augumented sentences of the following text' + example + ' text ='"
   ]
  },
  {
   "cell_type": "code",
   "execution_count": 32,
   "id": "2dd835ff-6625-4282-b4b5-79a2a6504d0f",
   "metadata": {
    "tags": []
   },
   "outputs": [
    {
     "name": "stderr",
     "output_type": "stream",
     "text": [
      "100%|██████████| 10/10 [00:00<00:00, 28.72it/s]\n"
     ]
    }
   ],
   "source": [
    "all_augumented_data = []\n",
    "for i in tqdm(range(10)):\n",
    "    random_rows = df.groupby('relation', group_keys=False).apply(random_rows_per_category)\n",
    "    for index, row in random_rows.iterrows():\n",
    "        single_aug_data = {}\n",
    "        sent = ' '.join(row['sentence'])\n",
    "        augumented_text = rule_based_augmentation(sent)\n",
    "        #print(process_data(augumented_text))\n",
    "        single_aug_data['sentences'] = augumented_text\n",
    "        single_aug_data['relation'] = row['relation']\n",
    "        single_aug_data['entities'] = row['entities']\n",
    "       # output = augumented_text +\", \" + row['relation'] + \", \" +  row['entities'][0] +\", \" +  row['entities'][1]\n",
    "        all_augumented_data.append(single_aug_data)"
   ]
  },
  {
   "cell_type": "code",
   "execution_count": 33,
   "id": "f3130523-72fb-4a91-acc4-9d9512b2f2ba",
   "metadata": {
    "tags": []
   },
   "outputs": [],
   "source": [
    "def save(file_path,data):\n",
    "    with open(file_path, \"w\") as json_file:\n",
    "        json.dump(data, json_file)\n",
    "\n",
    "    print(f'Data saved to {file_path}')"
   ]
  },
  {
   "cell_type": "code",
   "execution_count": 34,
   "id": "7590ed11-06fa-4d20-ad14-7029a6df4a0b",
   "metadata": {
    "tags": []
   },
   "outputs": [
    {
     "name": "stdout",
     "output_type": "stream",
     "text": [
      "Data saved to augumented_data/fewrel_50_pr_rulebased_data.json\n"
     ]
    }
   ],
   "source": [
    "file_path = \"augumented_data/fewrel_50_pr_rulebased_data.json\"\n",
    "save(file_path,all_augumented_data)"
   ]
  },
  {
   "cell_type": "code",
   "execution_count": 36,
   "id": "693e34e9-6c65-418d-86a6-6a9fe16f2182",
   "metadata": {
    "tags": []
   },
   "outputs": [],
   "source": [
    "def nytFb(path):\n",
    "    dist = \"train\"\n",
    "    \n",
    "    temp_sent = \"\"\n",
    "    \n",
    "    temp_rel = \"\"\n",
    "    data = {}\n",
    "    data_list = []  # Create a list to collect dictionaries for each row\n",
    "    sentences = []\n",
    "    relations = []\n",
    "    entities = []\n",
    "   \n",
    "    for filename in os.listdir(path):\n",
    "        if not filename.endswith('.json'): continue\n",
    "        fullname = os.path.join(path, filename)\n",
    "       \n",
    "        if filename == \"test.json\":\n",
    "            dist = 'test'\n",
    "        elif filename == \"train.json\":\n",
    "            dist = 'train'\n",
    "        else:\n",
    "            dist = 'valid'\n",
    "        data2 = pd.read_json(r''+ fullname, lines=True)\n",
    "        \n",
    "        return data2\n",
    "       \n",
    "    return data"
   ]
  },
  {
   "cell_type": "code",
   "execution_count": 37,
   "id": "db842066-073a-4b8a-ad8f-ba412872b8ee",
   "metadata": {
    "tags": []
   },
   "outputs": [],
   "source": [
    "data_nyt = nytFb('data/nyt/')"
   ]
  },
  {
   "cell_type": "code",
   "execution_count": 39,
   "id": "59ef43c9-515e-476c-a962-57108b798f4a",
   "metadata": {
    "tags": []
   },
   "outputs": [],
   "source": [
    "def transform_row(row):\n",
    "    sentence = row['sentText']\n",
    "    relation = row['relationMentions'][0]['label'].split('/')[-1] \n",
    "    ent1 = row['entityMentions'][0]['text']\n",
    "    ent2 = row['entityMentions'][1]['text']\n",
    "    entities = (ent1, ent2)\n",
    "    return sentence, relation, entities\n",
    "\n",
    "# Apply the transformation function to each row and convert the result to a list of tuples\n",
    "transformed_data = data_nyt.apply(transform_row, axis=1)\n",
    "\n",
    "# Create a new DataFrame from the transformed data\n",
    "nyt_df = pd.DataFrame(transformed_data.tolist(), columns=['sentence', 'relation', 'entities'])"
   ]
  },
  {
   "cell_type": "code",
   "execution_count": 40,
   "id": "342d7dcf-bd3c-4782-b388-8a4af172780b",
   "metadata": {
    "tags": []
   },
   "outputs": [
    {
     "data": {
      "text/plain": [
       "56196"
      ]
     },
     "execution_count": 40,
     "metadata": {},
     "output_type": "execute_result"
    }
   ],
   "source": []
  },
  {
   "cell_type": "code",
   "execution_count": 41,
   "id": "eef856de-6fbe-4c0b-a77d-1f53b2450bc8",
   "metadata": {
    "tags": []
   },
   "outputs": [
    {
     "name": "stderr",
     "output_type": "stream",
     "text": [
      "100%|██████████| 10/10 [00:00<00:00, 15.12it/s]\n"
     ]
    }
   ],
   "source": [
    "all_augumented_data = []\n",
    "for i in tqdm(range(10)):\n",
    "    random_rows = nyt_df.groupby('relation', group_keys=False).apply(random_rows_per_category)\n",
    "    for index, row in random_rows.iterrows():\n",
    "        single_aug_data = {}\n",
    "        sent = row['sentence']\n",
    "        augumented_text = rule_based_augmentation(sent)\n",
    "        #print(process_data(augumented_text))\n",
    "        single_aug_data['sentences'] = augumented_text\n",
    "        single_aug_data['relation'] = row['relation']\n",
    "        single_aug_data['entities'] = row['entities']\n",
    "       # output = augumented_text +\", \" + row['relation'] + \", \" +  row['entities'][0] +\", \" +  row['entities'][1]\n",
    "        all_augumented_data.append(single_aug_data)"
   ]
  },
  {
   "cell_type": "code",
   "execution_count": 42,
   "id": "5ba88326-1481-49c5-b686-938fe3f15ab8",
   "metadata": {
    "tags": []
   },
   "outputs": [
    {
     "name": "stdout",
     "output_type": "stream",
     "text": [
      "Data saved to augumented_data/nyt_50_pr_rulebased_data.json\n"
     ]
    }
   ],
   "source": [
    "file_path = \"augumented_data/nyt_50_pr_rulebased_data.json\"\n",
    "save(file_path,all_augumented_data)"
   ]
  },
  {
   "cell_type": "code",
   "execution_count": 43,
   "id": "96b098db-8a12-4d67-bb80-8db671bb71cb",
   "metadata": {
    "tags": []
   },
   "outputs": [
    {
     "name": "stdout",
     "output_type": "stream",
     "text": [
      "relation\n",
      "contains                    30240\n",
      "nationality                  5219\n",
      "place_lived                  5024\n",
      "company                      3971\n",
      "capital                      2430\n",
      "neighborhood_of              2108\n",
      "place_of_birth               1580\n",
      "administrative_divisions     1518\n",
      "country                      1517\n",
      "place_of_death               1023\n",
      "children                      381\n",
      "founders                      377\n",
      "place_founded                 318\n",
      "major_shareholder_of           98\n",
      "teams                          88\n",
      "location                       86\n",
      "major_shareholders             84\n",
      "religion                       53\n",
      "advisors                       34\n",
      "geographic_distribution        26\n",
      "ethnicity                       9\n",
      "people                          9\n",
      "profession                      2\n",
      "industry                        1\n",
      "Name: count, dtype: int64\n"
     ]
    }
   ],
   "source": [
    "category_counts = nyt_df['relation'].value_counts()\n",
    "\n",
    "print(category_counts)"
   ]
  },
  {
   "cell_type": "code",
   "execution_count": 44,
   "id": "7f1e28e5-00de-4fd5-ac14-fd974c31d927",
   "metadata": {
    "tags": []
   },
   "outputs": [],
   "source": [
    "threshold = 100\n",
    "\n",
    "# Filter categories with counts less than the threshold\n",
    "categories_below_threshold = category_counts[category_counts < threshold]\n",
    "\n",
    "# Create two separate DataFrames based on the filter\n",
    "df_below_threshold = nyt_df[nyt_df['relation'].isin(categories_below_threshold.index)]\n",
    "df_above_threshold = nyt_df[~nyt_df['relation'].isin(categories_below_threshold.index)]\n"
   ]
  },
  {
   "cell_type": "code",
   "execution_count": 47,
   "id": "b7a16a6f-7827-4a3d-865c-0a189e802eab",
   "metadata": {
    "tags": []
   },
   "outputs": [
    {
     "name": "stderr",
     "output_type": "stream",
     "text": [
      "Processing:   0%|          | 0/20 [00:00<?, ?it/s]\n",
      "11it [00:00, 552.19it/s]\n",
      "\n",
      "11it [00:00, 580.13it/s]\n",
      "\n",
      "11it [00:00, 817.89it/s]\n",
      "\n",
      "11it [00:00, 897.58it/s]\n",
      "\n",
      "11it [00:00, 1479.28it/s]\n",
      "Processing:  25%|██▌       | 5/20 [00:00<00:00, 46.33it/s]\n",
      "11it [00:00, 1466.59it/s]\n",
      "\n",
      "11it [00:00, 1491.33it/s]\n",
      "\n",
      "11it [00:00, 1484.90it/s]\n",
      "\n",
      "11it [00:00, 1497.67it/s]\n",
      "\n",
      "11it [00:00, 1499.18it/s]\n",
      "\n",
      "11it [00:00, 1489.07it/s]\n",
      "\n",
      "11it [00:00, 1498.94it/s]\n",
      "\n",
      "11it [00:00, 1546.11it/s]\n",
      "\n",
      "11it [00:00, 1481.13it/s]\n",
      "Processing:  70%|███████   | 14/20 [00:00<00:00, 70.22it/s]\n",
      "11it [00:00, 1492.63it/s]\n",
      "\n",
      "11it [00:00, 1493.55it/s]\n",
      "\n",
      "11it [00:00, 1499.72it/s]\n",
      "\n",
      "11it [00:00, 1493.21it/s]\n",
      "\n",
      "11it [00:00, 1485.19it/s]\n",
      "\n",
      "11it [00:00, 1498.31it/s]\n",
      "Processing: 100%|██████████| 20/20 [00:00<00:00, 71.81it/s]\n"
     ]
    }
   ],
   "source": [
    "all_augmented_data = []\n",
    "\n",
    "    # Iterate using tqdm for a progress bar\n",
    "for i in tqdm(range(20), desc=\"Processing\"):\n",
    "    random_rows = df_below_threshold.groupby('relation', group_keys=False).apply(random_rows_per_category)\n",
    "\n",
    "    for index, row in tqdm(random_rows.iterrows()):\n",
    "        single_aug_data = {}\n",
    "        sent = row['sentence']\n",
    "        augumented_text = rule_based_augmentation(sent)\n",
    "\n",
    "        single_aug_data['sentence'] = augumented_text\n",
    "        single_aug_data['relation'] = row['relation']\n",
    "        single_aug_data['entities'] = row['entities']\n",
    "\n",
    "        all_augmented_data.append(single_aug_data)"
   ]
  },
  {
   "cell_type": "code",
   "execution_count": 48,
   "id": "21aef42c-feab-4ee3-b4e4-ee6a262810f6",
   "metadata": {
    "tags": []
   },
   "outputs": [
    {
     "name": "stdout",
     "output_type": "stream",
     "text": [
      "Data saved to augumented_data/nyt_less100_100Plus_rulebased_data.json\n"
     ]
    }
   ],
   "source": [
    "file_path = \"augumented_data/nyt_less100_100Plus_rulebased_data.json\"\n",
    "save(file_path,all_augumented_data)"
   ]
  },
  {
   "cell_type": "code",
   "execution_count": null,
   "id": "ffc2f206-4578-49c6-ba94-23ab82524c13",
   "metadata": {},
   "outputs": [],
   "source": []
  },
  {
   "cell_type": "code",
   "execution_count": null,
   "id": "d097e1f1-e8ac-4e50-9ab3-4457c4fa32bf",
   "metadata": {},
   "outputs": [],
   "source": []
  },
  {
   "cell_type": "code",
   "execution_count": null,
   "id": "dfa09e4f-2b81-49b7-aa9e-e1d59cc79091",
   "metadata": {},
   "outputs": [],
   "source": []
  },
  {
   "cell_type": "code",
   "execution_count": null,
   "id": "32d0cae2-10c5-4a3a-9326-3d7443fe9f9e",
   "metadata": {},
   "outputs": [],
   "source": []
  },
  {
   "cell_type": "code",
   "execution_count": 2,
   "id": "c1ffdfb8-b591-4880-a375-b23fd6f30e0a",
   "metadata": {},
   "outputs": [
    {
     "name": "stdout",
     "output_type": "stream",
     "text": [
      "Original Sentence:\n",
      "The workers often arrive in convoys , like the 47 repair vehicles from FirstEnergy , a utility holding company in Akron , Ohio , that pulled into the Coliseum parking lot Saturday.\n",
      "\n",
      "Augmented Sentences:\n",
      "The worker often arrive in convoys , like the 47 repair vehicles from FirstEnergy , a utility holding company in Akron , Ohio , that pulled into the Coliseum parking lot Saturday.\n",
      "The prole often arrive in convoys , like the 47 repair vehicles from FirstEnergy , a utility holding company in Akron , Ohio , that pulled into the Coliseum parking lot Saturday.\n",
      "The doer often arrive in convoys , like the 47 repair vehicles from FirstEnergy , a utility holding company in Akron , Ohio , that pulled into the Coliseum parking lot Saturday.\n",
      "The proletarian often arrive in convoys , like the 47 repair vehicles from FirstEnergy , a utility holding company in Akron , Ohio , that pulled into the Coliseum parking lot Saturday.\n",
      "The actor often arrive in convoys , like the 47 repair vehicles from FirstEnergy , a utility holding company in Akron , Ohio , that pulled into the Coliseum parking lot Saturday.\n"
     ]
    },
    {
     "name": "stderr",
     "output_type": "stream",
     "text": [
      "[nltk_data] Downloading package wordnet to\n",
      "[nltk_data]     /upb/users/m/manzoor/profiles/unix/cs/nltk_data...\n",
      "[nltk_data]   Package wordnet is already up-to-date!\n"
     ]
    }
   ],
   "source": [
    "import nltk\n",
    "from nltk.corpus import wordnet\n",
    "\n",
    "nltk.download('wordnet')\n",
    "\n",
    "# Function to get synonyms of a word\n",
    "def get_synonyms(word):\n",
    "    synonyms = set()\n",
    "    for syn in wordnet.synsets(word):\n",
    "        for lemma in syn.lemmas():\n",
    "            synonyms.add(lemma.name())\n",
    "    return list(synonyms)\n",
    "\n",
    "# Function to perform rule-based data augmentation\n",
    "def rule_based_augmentation(sentence):\n",
    "    words = sentence.split()  # Tokenize the sentence\n",
    "    augmented_sentences = []\n",
    "\n",
    "    for i, word in enumerate(words):\n",
    "        synonyms = get_synonyms(word)\n",
    "        if synonyms:\n",
    "            for synonym in synonyms:\n",
    "                new_sentence = \" \".join(words[:i] + [synonym] + words[i+1:])\n",
    "                augmented_sentences.append(new_sentence)\n",
    "\n",
    "    return augmented_sentences[:5]\n",
    "\n",
    "# Example sentence for data augmentation\n",
    "input_sentence = \"The workers often arrive in convoys , like the 47 repair vehicles from FirstEnergy , a utility holding company in Akron , Ohio , that pulled into the Coliseum parking lot Saturday.\"\n",
    "\n",
    "# Perform rule-based data augmentation\n",
    "augmented_sentences = rule_based_augmentation(input_sentence)\n",
    "\n",
    "# Display the augmented sentences\n",
    "print(\"Original Sentence:\")\n",
    "print(input_sentence)\n",
    "\n",
    "print(\"\\nAugmented Sentences:\")\n",
    "for sentence in augmented_sentences:\n",
    "    print(sentence)\n"
   ]
  },
  {
   "cell_type": "code",
   "execution_count": 6,
   "id": "c1ac1470-a409-4c0b-8dd9-2cef292913a6",
   "metadata": {
    "tags": []
   },
   "outputs": [
    {
     "name": "stdout",
     "output_type": "stream",
     "text": [
      "Defaulting to user installation because normal site-packages is not writeable\n",
      "Collecting textstat\n",
      "  Downloading textstat-0.7.3-py3-none-any.whl (105 kB)\n",
      "\u001b[2K     \u001b[90m━━━━━━━━━━━━━━━━━━━━━━━━━━━━━━━━━━━━━━━\u001b[0m \u001b[32m105.1/105.1 kB\u001b[0m \u001b[31m4.1 MB/s\u001b[0m eta \u001b[36m0:00:00\u001b[0m\n",
      "\u001b[?25hCollecting pyphen (from textstat)\n",
      "  Downloading pyphen-0.14.0-py3-none-any.whl (2.0 MB)\n",
      "\u001b[2K     \u001b[90m━━━━━━━━━━━━━━━━━━━━━━━━━━━━━━━━━━━━━━━━\u001b[0m \u001b[32m2.0/2.0 MB\u001b[0m \u001b[31m34.6 MB/s\u001b[0m eta \u001b[36m0:00:00\u001b[0ma \u001b[36m0:00:01\u001b[0m\n",
      "\u001b[?25hInstalling collected packages: pyphen, textstat\n",
      "Successfully installed pyphen-0.14.0 textstat-0.7.3\n",
      "Note: you may need to restart the kernel to use updated packages.\n"
     ]
    }
   ],
   "source": [
    "pip install textstat\n"
   ]
  },
  {
   "cell_type": "code",
   "execution_count": 19,
   "id": "9cd1351c-6690-4212-ae15-edfe000a97a8",
   "metadata": {
    "tags": []
   },
   "outputs": [
    {
     "name": "stdout",
     "output_type": "stream",
     "text": [
      "Flesch-Kincaid Readability Score: 9.9\n"
     ]
    }
   ],
   "source": [
    "import textstat\n",
    "\n",
    "text = \"The ACIC has jurisdiction over federal and local government in Australia. \"\n",
    "\n",
    "# Calculate the Flesch-Kincaid score\n",
    "flesch_score = textstat.flesch_kincaid_grade(text)\n",
    "\n",
    "print(f\"Flesch-Kincaid Readability Score: {flesch_score}\")\n"
   ]
  },
  {
   "cell_type": "code",
   "execution_count": 49,
   "id": "972cb3b7-fc7a-4834-b002-40e3f37b3646",
   "metadata": {
    "tags": []
   },
   "outputs": [],
   "source": [
    "from sklearn.feature_extraction.text import CountVectorizer\n",
    "from sklearn.metrics.pairwise import cosine_similarity"
   ]
  },
  {
   "cell_type": "code",
   "execution_count": 50,
   "id": "b90cd63e-cabf-4856-a6d2-29a657158ca3",
   "metadata": {
    "tags": []
   },
   "outputs": [
    {
     "name": "stderr",
     "output_type": "stream",
     "text": [
      "[nltk_data] Downloading package punkt to\n",
      "[nltk_data]     /upb/users/m/manzoor/profiles/unix/cs/nltk_data...\n",
      "[nltk_data]   Unzipping tokenizers/punkt.zip.\n"
     ]
    },
    {
     "data": {
      "text/plain": [
       "True"
      ]
     },
     "execution_count": 50,
     "metadata": {},
     "output_type": "execute_result"
    }
   ],
   "source": [
    "nltk.download('punkt')"
   ]
  },
  {
   "cell_type": "code",
   "execution_count": 51,
   "id": "27deba52-394e-4b30-9663-9646968b9def",
   "metadata": {
    "tags": []
   },
   "outputs": [],
   "source": [
    "sentence1 = \"This is the first sentence for comparison.\"\n",
    "sentence2 = \"This is the second sentence for comparison.\"\n",
    "\n",
    "sentences = [sentence1, sentence2]"
   ]
  },
  {
   "cell_type": "code",
   "execution_count": 52,
   "id": "22769c6a-9eb3-4bf4-8531-fce1f660104a",
   "metadata": {
    "tags": []
   },
   "outputs": [],
   "source": [
    "vectorizer = CountVectorizer().fit_transform(sentences)\n",
    "vectors = vectorizer.toarray()"
   ]
  },
  {
   "cell_type": "code",
   "execution_count": 53,
   "id": "3c12b926-11e1-42f4-bee6-c570a7bda89e",
   "metadata": {
    "tags": []
   },
   "outputs": [],
   "source": [
    "cosine_sim = cosine_similarity(vectors)"
   ]
  },
  {
   "cell_type": "code",
   "execution_count": 54,
   "id": "7e7d5473-5d7d-48fa-9932-9fd9e8b754e2",
   "metadata": {
    "tags": []
   },
   "outputs": [
    {
     "name": "stdout",
     "output_type": "stream",
     "text": [
      "Cosine Similarity Score: 0.8571428571428569\n"
     ]
    }
   ],
   "source": [
    "similarity_score = cosine_sim[0][1]\n",
    "print(f\"Cosine Similarity Score: {similarity_score}\")"
   ]
  },
  {
   "cell_type": "markdown",
   "id": "83f151fe-11d7-4bab-9496-128944acffdf",
   "metadata": {},
   "source": [
    "### Below is the code for last table"
   ]
  },
  {
   "cell_type": "code",
   "execution_count": 20,
   "id": "f16a6904-3c4b-4cf4-a626-04d158049cc8",
   "metadata": {
    "tags": []
   },
   "outputs": [],
   "source": [
    "def calculate_complexity(sentence):\n",
    "    try:\n",
    "        return textstat.flesch_kincaid_grade(sentence)\n",
    "    except:\n",
    "        return None  # Handle cases where the textstat library may throw an exception\n",
    "\n",
    "# Apply the function to the 'sentences' column\n"
   ]
  },
  {
   "cell_type": "code",
   "execution_count": 1,
   "id": "3cf4689b-d00e-4aa1-bd7b-5fd41a035a27",
   "metadata": {
    "tags": []
   },
   "outputs": [],
   "source": [
    "import pandas as pd"
   ]
  },
  {
   "cell_type": "markdown",
   "id": "ea8cb116-d497-4d9e-b5bb-8fa746d39e3f",
   "metadata": {},
   "source": [
    "#### NYT data load"
   ]
  },
  {
   "cell_type": "code",
   "execution_count": 217,
   "id": "90f23827-315e-4a80-a803-eb3e75bdbf33",
   "metadata": {
    "tags": []
   },
   "outputs": [],
   "source": [
    "data = pd.read_csv('fewRel_entities.csv')"
   ]
  },
  {
   "cell_type": "code",
   "execution_count": 193,
   "id": "981f2270-93a4-4f1e-9ab7-62808d7d4ed4",
   "metadata": {
    "tags": []
   },
   "outputs": [],
   "source": [
    "data_nyt = pd.read_csv('data/nyt.csv')"
   ]
  },
  {
   "cell_type": "code",
   "execution_count": 152,
   "id": "164404ce-3f1c-41b1-bd4f-bed7563dc5d5",
   "metadata": {
    "tags": []
   },
   "outputs": [],
   "source": [
    "data_nyt_falcon = pd.read_csv('data/nyt_aug_falcon_50.csv')"
   ]
  },
  {
   "cell_type": "code",
   "execution_count": 153,
   "id": "a7b13e00-3acd-4dc4-862e-82a9e84231e8",
   "metadata": {
    "tags": []
   },
   "outputs": [],
   "source": [
    "data_nyt_llama = pd.read_csv('data/nyt_aug_llama_50.csv')"
   ]
  },
  {
   "cell_type": "code",
   "execution_count": 154,
   "id": "b34919d1-74be-446c-a524-9d5a3a0541c7",
   "metadata": {
    "tags": []
   },
   "outputs": [],
   "source": [
    "data_nyt_rule = pd.read_csv('data/nyt_aug_rule_50.csv')"
   ]
  },
  {
   "cell_type": "code",
   "execution_count": 156,
   "id": "4984c800-0410-4167-a53f-b9eca840df9d",
   "metadata": {
    "tags": []
   },
   "outputs": [],
   "source": [
    "data_nyt_rule['complexity'] = data_nyt_rule['sentence'].apply(calculate_complexity)\n",
    "data_nyt_falcon['complexity'] = data_nyt_falcon['sentence'].apply(calculate_complexity)\n",
    "data_nyt_llama['complexity'] = data_nyt_llama['sentence'].apply(calculate_complexity)"
   ]
  },
  {
   "cell_type": "code",
   "execution_count": 157,
   "id": "1f957781-6174-4f1a-b60e-83d58803ca3f",
   "metadata": {
    "tags": []
   },
   "outputs": [
    {
     "name": "stdout",
     "output_type": "stream",
     "text": [
      "Average Complexity: 14.284166666666666, min complexity: 4.3 and max complexity: 24.4, standered deviation= 5.178031412932588\n",
      "Average Complexity: 11.1375, min complexity: 5.6 and max complexity: 21.3, standered deviation= 3.007997749120766\n",
      "Average Complexity: 12.904596622889304, min complexity: -15.7 and max complexity: 32.2, standered deviation= 5.172718927676214\n"
     ]
    }
   ],
   "source": [
    "details(data_nyt_rule)\n",
    "details(data_nyt_falcon)\n",
    "details(data_nyt_llama)\n"
   ]
  },
  {
   "cell_type": "code",
   "execution_count": 177,
   "id": "058d69cc-34b0-4e19-a14a-3671ac3f0fb5",
   "metadata": {
    "tags": []
   },
   "outputs": [
    {
     "name": "stdout",
     "output_type": "stream",
     "text": [
      "5.291666666666667\n",
      "2.158333333333333\n",
      "3.6397748592870545\n"
     ]
    }
   ],
   "source": [
    "print(numEntities(data_nyt_rule))\n",
    "print(numEntities(data_nyt_falcon))\n",
    "print(numEntities(data_nyt_llama))\n"
   ]
  },
  {
   "cell_type": "code",
   "execution_count": 184,
   "id": "b579cb2f-7eda-4a05-ad3c-3fcc62ec8af3",
   "metadata": {
    "tags": []
   },
   "outputs": [
    {
     "name": "stdout",
     "output_type": "stream",
     "text": [
      "\n",
      "Average number of tokens across all sentences: 42.791666666666664\n",
      "\n",
      "Average number of tokens across all sentences: 17.116666666666667\n",
      "\n",
      "Average number of tokens across all sentences: 36.15384615384615\n"
     ]
    }
   ],
   "source": [
    "claculateTokens(data_nyt_rule)\n",
    "claculateTokens(data_nyt_falcon)\n",
    "claculateTokens(data_nyt_llama)"
   ]
  },
  {
   "cell_type": "code",
   "execution_count": 206,
   "id": "0f2179e3-54a9-4572-9cdb-b2972d0ab286",
   "metadata": {
    "tags": []
   },
   "outputs": [
    {
     "name": "stdout",
     "output_type": "stream",
     "text": [
      "\n",
      "Average cosine similarity between sentences: 0.2456338983887971\n",
      "\n",
      "Average cosine similarity between sentences: 0.39441716727522363\n",
      "\n",
      "Average cosine similarity between sentences: 0.16971563518938332\n"
     ]
    }
   ],
   "source": [
    "\n",
    "avgCosineSim(data_nyt_rule)\n",
    "avgCosineSim(data_nyt_falcon)\n",
    "avgCosineSim(data_nyt_llama)"
   ]
  },
  {
   "cell_type": "markdown",
   "id": "f8193eee-ea89-4675-add1-afa9242e03e3",
   "metadata": {},
   "source": [
    "#### Fewrel dataload"
   ]
  },
  {
   "cell_type": "code",
   "execution_count": 173,
   "id": "ff618d0c-bad8-4404-8c9e-4dc55f9458ad",
   "metadata": {
    "tags": []
   },
   "outputs": [],
   "source": [
    "data_fewrel_falcon = pd.read_csv('aug_falcon_entities.csv')\n",
    "data_fewrel_llama = pd.read_csv('aug_llama_entities_cleaned.csv')\n",
    "data_fewrel_rule = pd.read_csv('aug_rule_entities.csv')"
   ]
  },
  {
   "cell_type": "code",
   "execution_count": 174,
   "id": "a438c6ba-71ae-4f6f-8db5-8c7ba21b179f",
   "metadata": {
    "tags": []
   },
   "outputs": [],
   "source": [
    "data_fewrel_falcon['complexity'] = data_fewrel_falcon['sentence'].apply(calculate_complexity)\n",
    "data_fewrel_llama['complexity'] = data_fewrel_llama['sentence'].apply(calculate_complexity)\n",
    "data_fewrel_rule['complexity'] = data_fewrel_rule['sentence'].apply(calculate_complexity)"
   ]
  },
  {
   "cell_type": "code",
   "execution_count": 175,
   "id": "df01e9cd-5c06-4218-9b9c-c7825c9926d5",
   "metadata": {
    "tags": []
   },
   "outputs": [
    {
     "name": "stdout",
     "output_type": "stream",
     "text": [
      "Average Complexity: 11.62875, min complexity: 3.2 and max complexity: 20.6, standered deviation= 3.1047944149109363\n",
      "Average Complexity: 13.358605821056415, min complexity: 1.3 and max complexity: 50.9, standered deviation= 4.298414408086651\n",
      "Average Complexity: 10.678125, min complexity: 2.1 and max complexity: 20.9, standered deviation= 3.29674732183595\n"
     ]
    }
   ],
   "source": [
    "details(data_fewrel_falcon)\n",
    "details(data_fewrel_llama)\n",
    "details(data_fewrel_rule)\n"
   ]
  },
  {
   "cell_type": "code",
   "execution_count": 176,
   "id": "3c12c985-f0c7-4c22-be8d-0f41e62d5da3",
   "metadata": {
    "tags": []
   },
   "outputs": [
    {
     "name": "stdout",
     "output_type": "stream",
     "text": [
      "rule = 2.35\n",
      "llama = 3.943586058210564\n",
      "falcon = 4.109375\n"
     ]
    }
   ],
   "source": [
    "print(f'falcon = {numEntities(data_fewrel_falcon)}')\n",
    "print(f'llama = {numEntities(data_fewrel_llama)}')\n",
    "print(f'rule = {numEntities(data_fewrel_rule)}')"
   ]
  },
  {
   "cell_type": "code",
   "execution_count": 188,
   "id": "96a8d23e-9442-40e3-9c87-dcab1630a6c6",
   "metadata": {
    "tags": []
   },
   "outputs": [
    {
     "name": "stdout",
     "output_type": "stream",
     "text": [
      "\n",
      "Average number of tokens across all sentences: 24.875\n",
      "\n",
      "Average number of tokens across all sentences: 18.765625\n",
      "\n",
      "Average number of tokens across all sentences: 32.842256557671575\n"
     ]
    }
   ],
   "source": [
    "claculateTokens(data_fewrel_rule)\n",
    "claculateTokens(data_fewrel_falcon)\n",
    "claculateTokens(data_fewrel_llama)"
   ]
  },
  {
   "cell_type": "code",
   "execution_count": 207,
   "id": "0dba8b9b-8443-42d2-a33b-9db833e703e2",
   "metadata": {
    "tags": []
   },
   "outputs": [
    {
     "name": "stdout",
     "output_type": "stream",
     "text": [
      "\n",
      "Average cosine similarity between sentences: 0.1578490177926236\n",
      "\n",
      "Average cosine similarity between sentences: 0.3709857184793308\n",
      "\n",
      "Average cosine similarity between sentences: 0.1846967784163656\n"
     ]
    }
   ],
   "source": [
    "avgCosineSim(data_fewrel_rule)\n",
    "avgCosineSim(data_fewrel_falcon)\n",
    "avgCosineSim(data_fewrel_llama)"
   ]
  },
  {
   "cell_type": "code",
   "execution_count": 195,
   "id": "8503eb5e-e3cd-4d6c-9e25-780c9d91473d",
   "metadata": {
    "tags": []
   },
   "outputs": [
    {
     "data": {
      "text/html": [
       "<div>\n",
       "<style scoped>\n",
       "    .dataframe tbody tr th:only-of-type {\n",
       "        vertical-align: middle;\n",
       "    }\n",
       "\n",
       "    .dataframe tbody tr th {\n",
       "        vertical-align: top;\n",
       "    }\n",
       "\n",
       "    .dataframe thead th {\n",
       "        text-align: right;\n",
       "    }\n",
       "</style>\n",
       "<table border=\"1\" class=\"dataframe\">\n",
       "  <thead>\n",
       "    <tr style=\"text-align: right;\">\n",
       "      <th></th>\n",
       "      <th>sentence</th>\n",
       "      <th>relation</th>\n",
       "      <th>entities</th>\n",
       "    </tr>\n",
       "  </thead>\n",
       "  <tbody>\n",
       "    <tr>\n",
       "      <th>0</th>\n",
       "      <td>Merpati flight 106 departed Jakarta ( CGK ) on...</td>\n",
       "      <td>P931</td>\n",
       "      <td>('tjq', 'tanjung pandan')</td>\n",
       "    </tr>\n",
       "    <tr>\n",
       "      <th>1</th>\n",
       "      <td>The name was at one point changed to Nottingha...</td>\n",
       "      <td>P931</td>\n",
       "      <td>('east midlands airport', 'nottingham')</td>\n",
       "    </tr>\n",
       "    <tr>\n",
       "      <th>2</th>\n",
       "      <td>It is a four - level stack interchange near Fo...</td>\n",
       "      <td>P931</td>\n",
       "      <td>('fort lauderdale-hollywood international airp...</td>\n",
       "    </tr>\n",
       "    <tr>\n",
       "      <th>3</th>\n",
       "      <td>It is the main alternate of Jinnah Internation...</td>\n",
       "      <td>P931</td>\n",
       "      <td>('jinnah international airport', 'karachi')</td>\n",
       "    </tr>\n",
       "    <tr>\n",
       "      <th>4</th>\n",
       "      <td>Nearby airports include Akwa Ibom Airport at O...</td>\n",
       "      <td>P931</td>\n",
       "      <td>('margaret ekpo international airport', 'calab...</td>\n",
       "    </tr>\n",
       "  </tbody>\n",
       "</table>\n",
       "</div>"
      ],
      "text/plain": [
       "                                            sentence relation  \\\n",
       "0  Merpati flight 106 departed Jakarta ( CGK ) on...     P931   \n",
       "1  The name was at one point changed to Nottingha...     P931   \n",
       "2  It is a four - level stack interchange near Fo...     P931   \n",
       "3  It is the main alternate of Jinnah Internation...     P931   \n",
       "4  Nearby airports include Akwa Ibom Airport at O...     P931   \n",
       "\n",
       "                                            entities  \n",
       "0                          ('tjq', 'tanjung pandan')  \n",
       "1            ('east midlands airport', 'nottingham')  \n",
       "2  ('fort lauderdale-hollywood international airp...  \n",
       "3        ('jinnah international airport', 'karachi')  \n",
       "4  ('margaret ekpo international airport', 'calab...  "
      ]
     },
     "execution_count": 195,
     "metadata": {},
     "output_type": "execute_result"
    }
   ],
   "source": [
    "data.head()"
   ]
  },
  {
   "cell_type": "code",
   "execution_count": 198,
   "id": "be215847-16ba-4ecb-bf5d-390dce2b9c5e",
   "metadata": {
    "tags": []
   },
   "outputs": [
    {
     "name": "stdout",
     "output_type": "stream",
     "text": [
      "\n",
      "Average number of tokens across all sentences: 25.00049107142857\n"
     ]
    }
   ],
   "source": [
    "claculateTokens(data)\n"
   ]
  },
  {
   "cell_type": "code",
   "execution_count": 199,
   "id": "1184694a-9211-4a83-8fd6-1ee08f49cf4c",
   "metadata": {
    "tags": []
   },
   "outputs": [
    {
     "name": "stdout",
     "output_type": "stream",
     "text": [
      "\n",
      "Average number of tokens across all sentences: 37.81715780482597\n"
     ]
    }
   ],
   "source": [
    "claculateTokens(data_nyt)"
   ]
  },
  {
   "cell_type": "code",
   "execution_count": 28,
   "id": "8ad283c4-6822-4e22-9ab3-a95bd97614da",
   "metadata": {
    "tags": []
   },
   "outputs": [],
   "source": [
    "data_nyt['complexity'] = data_nyt['sentence'].apply(calculate_complexity)"
   ]
  },
  {
   "cell_type": "code",
   "execution_count": 29,
   "id": "60ccc1ec-532d-4822-aeb9-7a820526424e",
   "metadata": {
    "tags": []
   },
   "outputs": [],
   "source": [
    "data['complexity'] = data['sentence'].apply(calculate_complexity)\n"
   ]
  },
  {
   "cell_type": "code",
   "execution_count": 13,
   "id": "474081c9-b05e-4a56-b94c-e670e2b2936c",
   "metadata": {
    "tags": []
   },
   "outputs": [],
   "source": [
    "def details(data):    \n",
    "    average_complexity = data['complexity'].mean()\n",
    "    min_complexity = data['complexity'].min()\n",
    "    max_complexity = data['complexity'].max()\n",
    "    std_deviation_complexity = data['complexity'].std()\n",
    "\n",
    "    # Display the average complexity score\n",
    "    print(f'Average Complexity: {average_complexity}, min complexity: {min_complexity} and max complexity: {max_complexity}, standered deviation= {std_deviation_complexity}')"
   ]
  },
  {
   "cell_type": "code",
   "execution_count": 30,
   "id": "4caeba0a-a2b4-4d96-a3d4-b5a9b1d1886d",
   "metadata": {
    "tags": []
   },
   "outputs": [
    {
     "name": "stdout",
     "output_type": "stream",
     "text": [
      "Average Complexity: 10.345794642857141, min complexity: -2.3 and max complexity: 25.6, standered deviation= 3.2103797695110985\n"
     ]
    }
   ],
   "source": [
    "details(data) ### Fewrel"
   ]
  },
  {
   "cell_type": "code",
   "execution_count": 31,
   "id": "034c3c71-a805-45c0-8905-50dd935b67a3",
   "metadata": {
    "tags": []
   },
   "outputs": [
    {
     "name": "stdout",
     "output_type": "stream",
     "text": [
      "Average Complexity: 12.894590362303365, min complexity: -2.7 and max complexity: 40.0, standered deviation= 5.353198862675786\n"
     ]
    }
   ],
   "source": [
    "details(data_nyt) ### Nyt-fb"
   ]
  },
  {
   "cell_type": "code",
   "execution_count": 213,
   "id": "2d6b5a64-60e3-40b3-bf0f-884bdc6ed7d7",
   "metadata": {
    "tags": []
   },
   "outputs": [
    {
     "name": "stdout",
     "output_type": "stream",
     "text": [
      "\n",
      "Average cosine similarity between sentences: 0.1916743467349068\n"
     ]
    }
   ],
   "source": [
    "#avgCosineSim(data)\n",
    "avgCosineSim(data_nyt)"
   ]
  },
  {
   "cell_type": "code",
   "execution_count": 220,
   "id": "242fcdda-84b4-41ec-b61a-c8d1552661cc",
   "metadata": {
    "tags": []
   },
   "outputs": [
    {
     "name": "stdout",
     "output_type": "stream",
     "text": [
      "\n",
      "Average cosine similarity between sentences: 0.1583082503517445\n"
     ]
    }
   ],
   "source": [
    "avgCosineSim(data)"
   ]
  },
  {
   "cell_type": "code",
   "execution_count": 36,
   "id": "03c5f2e7-d99b-4977-b7fb-8a54864a520d",
   "metadata": {
    "tags": []
   },
   "outputs": [
    {
     "data": {
      "image/png": "[encoded data removed]",
      "text/plain": [
       "<Figure size 1000x600 with 1 Axes>"
      ]
     },
     "metadata": {},
     "output_type": "display_data"
    }
   ],
   "source": [
    "import seaborn as sns\n",
    "import matplotlib.pyplot as plt\n",
    "\n",
    "# Assuming you have two DataFrames: df1 and df2 with 'complexity' column\n",
    "\n",
    "# Combine the datasets into a single DataFrame\n",
    "combined_df = pd.concat([data['complexity'], data_nyt['complexity']], axis=1)\n",
    "combined_df.columns = ['FewRel', 'NYT-FB']\n",
    "\n",
    "# Create a boxplot\n",
    "plt.figure(figsize=(10, 6))\n",
    "sns.boxplot(data=combined_df)\n",
    "plt.title('Comparison of Complexity Scores between FewRel and NYT-FB')\n",
    "plt.ylabel('Complexity Score')\n",
    "plt.show()\n"
   ]
  },
  {
   "cell_type": "code",
   "execution_count": 32,
   "id": "daf311e5-12a1-47c0-bccc-68029163825f",
   "metadata": {
    "tags": []
   },
   "outputs": [],
   "source": [
    "nyt_aug_df = pd.concat([data_nyt['complexity'],data_nyt_falcon['complexity'], data_nyt_llama['complexity'], data_nyt_rule['complexity']], axis=1)\n",
    "nyt_aug_df.columns = ['NYT-FB','Falcon', 'Llama', 'Rule']\n",
    "\n",
    "# Create a boxplot\n"
   ]
  },
  {
   "cell_type": "code",
   "execution_count": 101,
   "id": "6835e3c8-7884-4439-b289-2264a471fb08",
   "metadata": {
    "tags": []
   },
   "outputs": [],
   "source": [
    "fewrel_aug_df= pd.concat([data['complexity'],data_fewrel_falcon['complexity'], data_fewrel_llama['complexity'], data_fewrel_rule['complexity']], axis=1)\n",
    "fewrel_aug_df.columns = ['FewRel','Falcon', 'Llama', 'Rule']"
   ]
  },
  {
   "cell_type": "code",
   "execution_count": 232,
   "id": "350f4e79-260d-40b9-8cd3-3a3ff693c58b",
   "metadata": {
    "tags": []
   },
   "outputs": [
    {
     "data": {
      "image/png": "[encoded data removed]",
      "text/plain": [
       "<Figure size 350x250 with 1 Axes>"
      ]
     },
     "metadata": {},
     "output_type": "display_data"
    }
   ],
   "source": [
    "\n",
    "import seaborn as sns\n",
    "import matplotlib.pyplot as plt\n",
    "\n",
    "# Assuming you have a DataFrame nyt_aug_df with 'complexity' column\n",
    "\n",
    "plt.figure(figsize=(7/2, 5/2))\n",
    "\n",
    "ax = sns.boxplot(data=nyt_aug_df, showfliers=True, boxprops=dict(facecolor='None', edgecolor='green'), width=0.3, zorder=2)\n",
    "#ax = sns.boxplot(data=data_nyt_falcon['complexity'], showfliers=True, boxprops=dict(facecolor='None', edgecolor='green'), width=0.3, zorder=2,positions=[1])\n",
    "#ax = sns.boxplot(data=data_nyt_llama['complexity'], showfliers=True, boxprops=dict(facecolor='None', edgecolor='green'), width=0.3, zorder=2,positions=[1.5])\n",
    "#ax = sns.boxplot(data=data_nyt_rule['complexity'], showfliers=True, boxprops=dict(facecolor='None', edgecolor='green'), width=0.3, zorder=2,positions=[2.0])\n",
    "ax.set_aspect(0.05)\n",
    "\n",
    "\n",
    "sns.stripplot(data=nyt_aug_df, jitter=True, palette=\"Set2\", alpha=0.2, ax = ax,zorder=0)\n",
    "#sns.stripplot(data=data_nyt_falcon['complexity'], jitter=True, palette=\"Set3\", alpha=0.2, ax = ax,zorder=0)\n",
    "#sns.stripplot(data=data_nyt_llama['complexity'], jitter=True, palette=\"Set3\", alpha=0.2, ax = ax,zorder=0)\n",
    "#sns.stripplot(data=data_nyt_rule['complexity'], jitter=True, palette=\"Set3\", alpha=0.2, ax = ax,zorder=0)\n",
    "#plt.title('Comparison of Complexity Scores between Falcon, Llama, and Rule for NYT-FB dataset')\n",
    "plt.ylabel('Complexity Score')\n",
    "\n",
    "plt.tight_layout()  # Ensure the labels and title fit within the figure\n",
    "plt.savefig('images2/nyt_complexity.png', dpi=300)  # Save as PNG with 300 DPI\n",
    "plt.show()"
   ]
  },
  {
   "cell_type": "code",
   "execution_count": 108,
   "id": "8661ac55-1e37-4d2b-b250-c0fa6768315b",
   "metadata": {
    "tags": []
   },
   "outputs": [
    {
     "data": {
      "image/png": "[encoded data removed]",
      "text/plain": [
       "<Figure size 640x480 with 1 Axes>"
      ]
     },
     "metadata": {},
     "output_type": "display_data"
    }
   ],
   "source": [
    "relation_counts = data['relation'].value_counts()\n",
    "\n",
    "# Plot the bar graph\n",
    "relation_counts.plot(kind='bar')\n",
    "\n",
    "plt.title('Distribution of Relations')\n",
    "plt.xlabel('Relation')\n",
    "plt.ylabel('Count')\n",
    "plt.show()"
   ]
  },
  {
   "cell_type": "code",
   "execution_count": 113,
   "id": "a812a8d2-8b00-4f44-98cb-b13b0ebe554e",
   "metadata": {
    "tags": []
   },
   "outputs": [
    {
     "data": {
      "image/png": "[encoded data removed]",
      "text/plain": [
       "<Figure size 640x480 with 1 Axes>"
      ]
     },
     "metadata": {},
     "output_type": "display_data"
    }
   ],
   "source": [
    "data['relation_id'] = pd.factorize(data['relation'])[0]\n",
    "\n",
    "# Plot the histogram\n",
    "plt.hist(data['relation_id'], bins=len(data['relation'].unique()), align='left')\n",
    "\n",
    "plt.title('Distribution of Relations')\n",
    "plt.xlabel('Relation')\n",
    "plt.ylabel('Count')\n",
    "plt.show()"
   ]
  },
  {
   "cell_type": "code",
   "execution_count": 230,
   "id": "bf44eaef-f9f7-4f51-9b23-83e3ab70bf8d",
   "metadata": {
    "tags": []
   },
   "outputs": [
    {
     "data": {
      "image/png": "[encoded data removed]",
      "text/plain": [
       "<Figure size 350x250 with 1 Axes>"
      ]
     },
     "metadata": {},
     "output_type": "display_data"
    }
   ],
   "source": [
    "data['relation_id'] = pd.factorize(data['relation'])[0]\n",
    "colors = ['orange']\n",
    "plt.figure(figsize=(7/2, 5/2))\n",
    "# Plot the histogram\n",
    "plt.hist(data['relation_id'], bins=len(data['relation'].unique()), align='left', color=colors)\n",
    "\n",
    "#plt.title('Distribution of Relations')\n",
    "plt.xlabel('Relations')\n",
    "plt.ylabel('Number of Sentences')\n",
    "\n",
    "# Save the figure as a PDF\n",
    "plt.savefig('images2/fewrel_relation_distribution.pdf', bbox_inches='tight',dpi=300)\n",
    "plt.show()"
   ]
  },
  {
   "cell_type": "code",
   "execution_count": 172,
   "id": "ee88986e-5bbb-4e5e-86e1-09e9d2c2ae32",
   "metadata": {
    "tags": []
   },
   "outputs": [],
   "source": [
    "import ast\n",
    "def numEntities(data):\n",
    "    data['entities'] = data['entities'].apply(ast.literal_eval)\n",
    "    data['tuple_length'] = data['entities'].apply(len)\n",
    "\n",
    "# Calculate the total number of values across all tuples\n",
    "    data_sum = data['tuple_length'].sum()\n",
    "    return data_sum/len(data)"
   ]
  },
  {
   "cell_type": "code",
   "execution_count": null,
   "id": "5ab97646-d160-4568-9182-c8cb6b3fdf6d",
   "metadata": {},
   "outputs": [],
   "source": []
  },
  {
   "cell_type": "code",
   "execution_count": 196,
   "id": "44f6feff-fd0f-42af-b3ee-5de33de94ef7",
   "metadata": {
    "tags": []
   },
   "outputs": [],
   "source": [
    "import pandas as pd\n",
    "import nltk\n",
    "from nltk.tokenize import word_tokenize\n",
    "\n",
    "# Sample DataFrame with a 'sentences' column\n",
    "def claculateTokens(df):\n",
    "\n",
    "    # Tokenize the sentences and calculate the number of tokens for each sentence\n",
    "    df['num_tokens'] = df['sentence'].apply(lambda x: len(word_tokenize(x)))\n",
    "\n",
    "    # Calculate the average number of tokens across all sentences\n",
    "    average_tokens = df['num_tokens'].mean()\n",
    "    print(\"\\nAverage number of tokens across all sentences:\", average_tokens)\n"
   ]
  },
  {
   "cell_type": "code",
   "execution_count": 200,
   "id": "37cb0bdf-237b-4f7a-b68a-bf581eb6fa03",
   "metadata": {
    "tags": []
   },
   "outputs": [],
   "source": [
    "import pandas as pd\n",
    "from sklearn.metrics.pairwise import cosine_similarity\n",
    "from sklearn.feature_extraction.text import CountVectorizer\n"
   ]
  },
  {
   "cell_type": "code",
   "execution_count": 219,
   "id": "aa45df6d-ca7c-4a67-8539-540e69a9e446",
   "metadata": {
    "tags": []
   },
   "outputs": [],
   "source": [
    "# Sample DataFrame with a 'sentences' column\n",
    "\n",
    "def avgCosineSim(df):\n",
    "    # Create a CountVectorizer to convert sentences to vectors\n",
    "    vectorizer = CountVectorizer()\n",
    "    X = vectorizer.fit_transform(df['sentence'])\n",
    "\n",
    "    # Calculate cosine similarity matrix\n",
    "    cosine_sim_matrix = cosine_similarity(X, X)\n",
    "\n",
    "    # Convert the similarity matrix to DataFrame for better visualization\n",
    "    cosine_sim_df = pd.DataFrame(cosine_sim_matrix, columns=df.index, index=df.index)\n",
    "\n",
    "    # Calculate the average cosine similarity excluding self-similarity\n",
    "    average_cosine_similarity = cosine_sim_df.mask(cosine_sim_df == 1.0).mean().mean()\n",
    "    print(\"\\nAverage cosine similarity between sentences:\", average_cosine_similarity)"
   ]
  },
  {
   "cell_type": "code",
   "execution_count": null,
   "id": "e396570a-14bb-4a27-9ef3-6e7715925cdc",
   "metadata": {},
   "outputs": [],
   "source": []
  }
 ],
 "metadata": {
  "kernelspec": {
   "display_name": "Python 3 (ipykernel)",
   "language": "python",
   "name": "python3"
  },
  "language_info": {
   "codemirror_mode": {
    "name": "ipython",
    "version": 3
   },
   "file_extension": ".py",
   "mimetype": "text/x-python",
   "name": "python",
   "nbconvert_exporter": "python",
   "pygments_lexer": "ipython3",
   "version": "3.11.6"
  }
 },
 "nbformat": 4,
 "nbformat_minor": 5
}
